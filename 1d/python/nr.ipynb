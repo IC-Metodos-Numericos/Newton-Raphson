{
 "cells": [
  {
   "cell_type": "code",
   "execution_count": 54,
   "id": "a563017b",
   "metadata": {},
   "outputs": [],
   "source": [
    "import sympy as sp\n",
    "import numpy as np\n",
    "import plotly.graph_objects as go"
   ]
  },
  {
   "cell_type": "code",
   "execution_count": null,
   "id": "331b9615",
   "metadata": {},
   "outputs": [],
   "source": [
    "def newton_raphson(f, df, x0, tol=1e-5, max_iter=150):\n",
    "    \"\"\"\n",
    "    Método de Newton-Raphson para encontrar raízes de uma função.\n",
    "    \n",
    "    Parâmetros:\n",
    "    f : callable\n",
    "        Função para a qual queremos encontrar a raiz.\n",
    "    df : callable\n",
    "        Derivada da função f.\n",
    "    x0 : float\n",
    "        Chute inicial para a raiz.\n",
    "    tol : float\n",
    "        Tolerância para convergência.\n",
    "    max_iter : int\n",
    "        Número máximo de iterações.\n",
    "    \n",
    "    Retorna:\n",
    "    float\n",
    "        Aproximação da raiz.\n",
    "    \"\"\"\n",
    "    x = x0\n",
    "\n",
    "    iterations = [x0] # lista com os valores de x em cada iteração\n",
    "    \n",
    "    for i in range(max_iter):\n",
    "        fx = f(x)\n",
    "        dfx = df(x)\n",
    "        \n",
    "        if dfx == 0:\n",
    "            raise ValueError(\"Derivative is zero. No solution found.\")\n",
    "        \n",
    "        x_new = x - fx / dfx\n",
    "\n",
    "\n",
    "        iterations.append(x_new)\n",
    "        \n",
    "        if abs(x_new - x) < tol:\n",
    "            return x, iterations\n",
    "        \n",
    "        print(f\" Step: {i} -- Current approx.: {x} -- F(x): {fx} -- diff: {dfx}\")\n",
    "        x = x_new\n",
    "        \n",
    "        \n",
    "\n",
    "    \n",
    "    raise ValueError(\"Maximum number of iterations reached. No solution found.\")\n",
    "\n"
   ]
  },
  {
   "cell_type": "code",
   "execution_count": null,
   "id": "5da072a2",
   "metadata": {},
   "outputs": [],
   "source": [
    "\n",
    "\n",
    "def plot_newton_plotly(f, raiz, iteracoes):\n",
    "    \"\"\"\n",
    "    Plot the function and the iterations of the Newton-Raphson method using Plotly.\n",
    "\n",
    "    Parameters:\n",
    "    f : callable\n",
    "        The function to plot.\n",
    "    raiz : float\n",
    "        The root found by the method.\n",
    "    iteracoes : list\n",
    "        List of x values where the iterations occurred.\n",
    "    \"\"\"\n",
    "    x_vals = np.linspace(min(iteracoes) - 1, max(iteracoes) + 1, 400)\n",
    "    y_vals = f(x_vals)\n",
    "\n",
    "    fig = go.Figure()\n",
    "\n",
    "    # Plot the function\n",
    "    fig.add_trace(go.Scatter(x=x_vals, y=y_vals, mode='lines', name='f(x)'))\n",
    "\n",
    "    # Plot the x-axis and y-axis\n",
    "    fig.add_trace(go.Scatter(x=[min(x_vals), max(x_vals)], y=[0, 0], mode='lines', line=dict(color='black', width=1), showlegend=False))\n",
    "    fig.add_trace(go.Scatter(x=[0, 0], y=[min(y_vals), max(y_vals)], mode='lines', line=dict(color='black', width=1), showlegend=False))\n",
    "\n",
    "    # Plot the iterations and tangents\n",
    "    for i in range(len(iteracoes) - 1):\n",
    "        xi = iteracoes[i]\n",
    "        yi = f(xi)\n",
    "        # Tangent line\n",
    "        fig.add_trace(go.Scatter(x=[xi, iteracoes[i+1]], y=[yi, 0], mode='lines', line=dict(color='red', dash='dash'), showlegend=False))\n",
    "        fig.add_trace(go.Scatter(x=[xi], y=[yi], mode='markers', marker=dict(color='red', size=8), showlegend=False))\n",
    "        fig.add_trace(go.Scatter(x=[iteracoes[i+1]], y=[0], mode='markers', marker=dict(color='green', size=8), showlegend=False))\n",
    "\n",
    "    # Plot the root\n",
    "    fig.add_trace(go.Scatter(x=[raiz], y=[f(raiz)], mode='markers', marker=dict(color='blue', size=12, symbol='star'), name=f'Root: {raiz:.4f}'))\n",
    "\n",
    "    fig.update_layout(\n",
    "        title=\"Newton-Raphson Method (Plotly)\",\n",
    "        xaxis_title=\"x\",\n",
    "        yaxis_title=\"f(x)\",\n",
    "        legend=dict(yanchor=\"top\", y=0.99, xanchor=\"left\", x=0.01),\n",
    "        width=800,\n",
    "        height=500\n",
    "    )\n",
    "    fig.show()"
   ]
  },
  {
   "cell_type": "code",
   "execution_count": null,
   "id": "4706db1d",
   "metadata": {},
   "outputs": [],
   "source": [
    "locals_dict = {\n",
    "    \"pi\": sp.pi,\n",
    "    \"e\": sp.E,\n",
    "    \"ln\": sp.log,\n",
    "    \"log\": sp.log,\n",
    "    \"sin\": sp.sin,\n",
    "    \"cos\": sp.cos,\n",
    "    \"tan\": sp.tan,\n",
    "    \"exp\": sp.exp,\n",
    "    \"sqrt\": sp.sqrt,\n",
    "}"
   ]
  },
  {
   "cell_type": "code",
   "execution_count": 75,
   "id": "83cd960a",
   "metadata": {},
   "outputs": [
    {
     "name": "stdout",
     "output_type": "stream",
     "text": [
      "Função: exp(x) + cos(x), Derivada: exp(x) - sin(x)\n"
     ]
    }
   ],
   "source": [
    "x = sp.symbols('x')\n",
    "\n",
    "f = input(\"Digite uma função de x (ex: sin(pi * x)): \")\n",
    "f_expr = sp.sympify(f, locals=locals_dict)\n",
    "\n",
    "f_prime = sp.diff(f_expr, x)\n",
    "print(f\"Função: {f_expr}, Derivada: {f_prime}\")"
   ]
  },
  {
   "cell_type": "code",
   "execution_count": 76,
   "id": "66d04113",
   "metadata": {},
   "outputs": [],
   "source": [
    "x = sp.symbols('x')\n",
    "f_num = sp.lambdify(x, f, 'numpy')\n",
    "f_prime_num = sp.lambdify(x, f_prime, 'numpy')\n"
   ]
  },
  {
   "cell_type": "code",
   "execution_count": 77,
   "id": "38596c07",
   "metadata": {},
   "outputs": [
    {
     "name": "stdout",
     "output_type": "stream",
     "text": [
      " Step: 0 -- Current approx.: 1.0 -- F(x): 3.258584134327185 -- diff: 1.8768108436511486\n",
      " Step: 1 -- Current approx.: -0.7362347118519061 -- F(x): 1.2199159794960273 -- diff: 1.1504163647265335\n",
      " Step: 2 -- Current approx.: -1.7966472867251908 -- F(x): -0.05808177390367478 -- diff: 1.1404579176513634\n",
      " Step: 3 -- Current approx.: -1.7457188193045892 -- F(x): 0.0004876824980866723 -- diff: 1.1592595265179981\n"
     ]
    }
   ],
   "source": [
    "root, iterations = newton_raphson(f_num, f_prime_num, x0=1.0)"
   ]
  },
  {
   "cell_type": "code",
   "execution_count": 80,
   "id": "07690f1b",
   "metadata": {},
   "outputs": [
    {
     "data": {
      "application/vnd.plotly.v1+json": {
       "config": {
        "plotlyServerURL": "https://plot.ly"
       },
       "data": [
        {
         "mode": "lines",
         "name": "f(x)",
         "type": "scatter",
         "x": {
          "bdata": "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",
          "dtype": "f8"
         },
         "y": {
          "bdata": "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",
          "dtype": "f8"
         }
        },
        {
         "line": {
          "color": "black",
          "width": 1
         },
         "mode": "lines",
         "showlegend": false,
         "type": "scatter",
         "x": [
          -11.796647286725191,
          11
         ],
         "y": [
          0,
          0
         ]
        },
        {
         "line": {
          "color": "black",
          "width": 1
         },
         "mode": "lines",
         "showlegend": false,
         "type": "scatter",
         "x": [
          0,
          0
         ],
         "y": [
          -0.9995312503250663,
          59874.14614089577
         ]
        },
        {
         "line": {
          "color": "red",
          "dash": "dash"
         },
         "mode": "lines",
         "showlegend": false,
         "type": "scatter",
         "x": [
          1,
          -0.7362347118519061
         ],
         "y": [
          3.258584134327185,
          0
         ]
        },
        {
         "marker": {
          "color": "red",
          "size": 8
         },
         "mode": "markers",
         "showlegend": false,
         "type": "scatter",
         "x": [
          1
         ],
         "y": [
          3.258584134327185
         ]
        },
        {
         "marker": {
          "color": "green",
          "size": 8
         },
         "mode": "markers",
         "showlegend": false,
         "type": "scatter",
         "x": [
          -0.7362347118519061
         ],
         "y": [
          0
         ]
        },
        {
         "line": {
          "color": "red",
          "dash": "dash"
         },
         "mode": "lines",
         "showlegend": false,
         "type": "scatter",
         "x": [
          -0.7362347118519061,
          -1.7966472867251908
         ],
         "y": [
          1.2199159794960273,
          0
         ]
        },
        {
         "marker": {
          "color": "red",
          "size": 8
         },
         "mode": "markers",
         "showlegend": false,
         "type": "scatter",
         "x": [
          -0.7362347118519061
         ],
         "y": [
          1.2199159794960273
         ]
        },
        {
         "marker": {
          "color": "green",
          "size": 8
         },
         "mode": "markers",
         "showlegend": false,
         "type": "scatter",
         "x": [
          -1.7966472867251908
         ],
         "y": [
          0
         ]
        },
        {
         "line": {
          "color": "red",
          "dash": "dash"
         },
         "mode": "lines",
         "showlegend": false,
         "type": "scatter",
         "x": [
          -1.7966472867251908,
          -1.7457188193045892
         ],
         "y": [
          -0.05808177390367478,
          0
         ]
        },
        {
         "marker": {
          "color": "red",
          "size": 8
         },
         "mode": "markers",
         "showlegend": false,
         "type": "scatter",
         "x": [
          -1.7966472867251908
         ],
         "y": [
          -0.05808177390367478
         ]
        },
        {
         "marker": {
          "color": "green",
          "size": 8
         },
         "mode": "markers",
         "showlegend": false,
         "type": "scatter",
         "x": [
          -1.7457188193045892
         ],
         "y": [
          0
         ]
        },
        {
         "line": {
          "color": "red",
          "dash": "dash"
         },
         "mode": "lines",
         "showlegend": false,
         "type": "scatter",
         "x": [
          -1.7457188193045892,
          -1.7461395037906176
         ],
         "y": [
          0.0004876824980866723,
          0
         ]
        },
        {
         "marker": {
          "color": "red",
          "size": 8
         },
         "mode": "markers",
         "showlegend": false,
         "type": "scatter",
         "x": [
          -1.7457188193045892
         ],
         "y": [
          0.0004876824980866723
         ]
        },
        {
         "marker": {
          "color": "green",
          "size": 8
         },
         "mode": "markers",
         "showlegend": false,
         "type": "scatter",
         "x": [
          -1.7461395037906176
         ],
         "y": [
          0
         ]
        },
        {
         "line": {
          "color": "red",
          "dash": "dash"
         },
         "mode": "lines",
         "showlegend": false,
         "type": "scatter",
         "x": [
          -1.7461395037906176,
          -1.7461395304080123
         ],
         "y": [
          3.085256361501365e-8,
          0
         ]
        },
        {
         "marker": {
          "color": "red",
          "size": 8
         },
         "mode": "markers",
         "showlegend": false,
         "type": "scatter",
         "x": [
          -1.7461395037906176
         ],
         "y": [
          3.085256361501365e-8
         ]
        },
        {
         "marker": {
          "color": "green",
          "size": 8
         },
         "mode": "markers",
         "showlegend": false,
         "type": "scatter",
         "x": [
          -1.7461395304080123
         ],
         "y": [
          0
         ]
        },
        {
         "marker": {
          "color": "blue",
          "size": 12,
          "symbol": "star"
         },
         "mode": "markers",
         "name": "Root: -1.7461",
         "type": "scatter",
         "x": [
          -1.7461395037906176
         ],
         "y": [
          3.085256361501365e-8
         ]
        }
       ],
       "layout": {
        "height": 500,
        "legend": {
         "x": 0.01,
         "xanchor": "left",
         "y": 0.99,
         "yanchor": "top"
        },
        "template": {
         "data": {
          "bar": [
           {
            "error_x": {
             "color": "#2a3f5f"
            },
            "error_y": {
             "color": "#2a3f5f"
            },
            "marker": {
             "line": {
              "color": "#E5ECF6",
              "width": 0.5
             },
             "pattern": {
              "fillmode": "overlay",
              "size": 10,
              "solidity": 0.2
             }
            },
            "type": "bar"
           }
          ],
          "barpolar": [
           {
            "marker": {
             "line": {
              "color": "#E5ECF6",
              "width": 0.5
             },
             "pattern": {
              "fillmode": "overlay",
              "size": 10,
              "solidity": 0.2
             }
            },
            "type": "barpolar"
           }
          ],
          "carpet": [
           {
            "aaxis": {
             "endlinecolor": "#2a3f5f",
             "gridcolor": "white",
             "linecolor": "white",
             "minorgridcolor": "white",
             "startlinecolor": "#2a3f5f"
            },
            "baxis": {
             "endlinecolor": "#2a3f5f",
             "gridcolor": "white",
             "linecolor": "white",
             "minorgridcolor": "white",
             "startlinecolor": "#2a3f5f"
            },
            "type": "carpet"
           }
          ],
          "choropleth": [
           {
            "colorbar": {
             "outlinewidth": 0,
             "ticks": ""
            },
            "type": "choropleth"
           }
          ],
          "contour": [
           {
            "colorbar": {
             "outlinewidth": 0,
             "ticks": ""
            },
            "colorscale": [
             [
              0,
              "#0d0887"
             ],
             [
              0.1111111111111111,
              "#46039f"
             ],
             [
              0.2222222222222222,
              "#7201a8"
             ],
             [
              0.3333333333333333,
              "#9c179e"
             ],
             [
              0.4444444444444444,
              "#bd3786"
             ],
             [
              0.5555555555555556,
              "#d8576b"
             ],
             [
              0.6666666666666666,
              "#ed7953"
             ],
             [
              0.7777777777777778,
              "#fb9f3a"
             ],
             [
              0.8888888888888888,
              "#fdca26"
             ],
             [
              1,
              "#f0f921"
             ]
            ],
            "type": "contour"
           }
          ],
          "contourcarpet": [
           {
            "colorbar": {
             "outlinewidth": 0,
             "ticks": ""
            },
            "type": "contourcarpet"
           }
          ],
          "heatmap": [
           {
            "colorbar": {
             "outlinewidth": 0,
             "ticks": ""
            },
            "colorscale": [
             [
              0,
              "#0d0887"
             ],
             [
              0.1111111111111111,
              "#46039f"
             ],
             [
              0.2222222222222222,
              "#7201a8"
             ],
             [
              0.3333333333333333,
              "#9c179e"
             ],
             [
              0.4444444444444444,
              "#bd3786"
             ],
             [
              0.5555555555555556,
              "#d8576b"
             ],
             [
              0.6666666666666666,
              "#ed7953"
             ],
             [
              0.7777777777777778,
              "#fb9f3a"
             ],
             [
              0.8888888888888888,
              "#fdca26"
             ],
             [
              1,
              "#f0f921"
             ]
            ],
            "type": "heatmap"
           }
          ],
          "histogram": [
           {
            "marker": {
             "pattern": {
              "fillmode": "overlay",
              "size": 10,
              "solidity": 0.2
             }
            },
            "type": "histogram"
           }
          ],
          "histogram2d": [
           {
            "colorbar": {
             "outlinewidth": 0,
             "ticks": ""
            },
            "colorscale": [
             [
              0,
              "#0d0887"
             ],
             [
              0.1111111111111111,
              "#46039f"
             ],
             [
              0.2222222222222222,
              "#7201a8"
             ],
             [
              0.3333333333333333,
              "#9c179e"
             ],
             [
              0.4444444444444444,
              "#bd3786"
             ],
             [
              0.5555555555555556,
              "#d8576b"
             ],
             [
              0.6666666666666666,
              "#ed7953"
             ],
             [
              0.7777777777777778,
              "#fb9f3a"
             ],
             [
              0.8888888888888888,
              "#fdca26"
             ],
             [
              1,
              "#f0f921"
             ]
            ],
            "type": "histogram2d"
           }
          ],
          "histogram2dcontour": [
           {
            "colorbar": {
             "outlinewidth": 0,
             "ticks": ""
            },
            "colorscale": [
             [
              0,
              "#0d0887"
             ],
             [
              0.1111111111111111,
              "#46039f"
             ],
             [
              0.2222222222222222,
              "#7201a8"
             ],
             [
              0.3333333333333333,
              "#9c179e"
             ],
             [
              0.4444444444444444,
              "#bd3786"
             ],
             [
              0.5555555555555556,
              "#d8576b"
             ],
             [
              0.6666666666666666,
              "#ed7953"
             ],
             [
              0.7777777777777778,
              "#fb9f3a"
             ],
             [
              0.8888888888888888,
              "#fdca26"
             ],
             [
              1,
              "#f0f921"
             ]
            ],
            "type": "histogram2dcontour"
           }
          ],
          "mesh3d": [
           {
            "colorbar": {
             "outlinewidth": 0,
             "ticks": ""
            },
            "type": "mesh3d"
           }
          ],
          "parcoords": [
           {
            "line": {
             "colorbar": {
              "outlinewidth": 0,
              "ticks": ""
             }
            },
            "type": "parcoords"
           }
          ],
          "pie": [
           {
            "automargin": true,
            "type": "pie"
           }
          ],
          "scatter": [
           {
            "fillpattern": {
             "fillmode": "overlay",
             "size": 10,
             "solidity": 0.2
            },
            "type": "scatter"
           }
          ],
          "scatter3d": [
           {
            "line": {
             "colorbar": {
              "outlinewidth": 0,
              "ticks": ""
             }
            },
            "marker": {
             "colorbar": {
              "outlinewidth": 0,
              "ticks": ""
             }
            },
            "type": "scatter3d"
           }
          ],
          "scattercarpet": [
           {
            "marker": {
             "colorbar": {
              "outlinewidth": 0,
              "ticks": ""
             }
            },
            "type": "scattercarpet"
           }
          ],
          "scattergeo": [
           {
            "marker": {
             "colorbar": {
              "outlinewidth": 0,
              "ticks": ""
             }
            },
            "type": "scattergeo"
           }
          ],
          "scattergl": [
           {
            "marker": {
             "colorbar": {
              "outlinewidth": 0,
              "ticks": ""
             }
            },
            "type": "scattergl"
           }
          ],
          "scattermap": [
           {
            "marker": {
             "colorbar": {
              "outlinewidth": 0,
              "ticks": ""
             }
            },
            "type": "scattermap"
           }
          ],
          "scattermapbox": [
           {
            "marker": {
             "colorbar": {
              "outlinewidth": 0,
              "ticks": ""
             }
            },
            "type": "scattermapbox"
           }
          ],
          "scatterpolar": [
           {
            "marker": {
             "colorbar": {
              "outlinewidth": 0,
              "ticks": ""
             }
            },
            "type": "scatterpolar"
           }
          ],
          "scatterpolargl": [
           {
            "marker": {
             "colorbar": {
              "outlinewidth": 0,
              "ticks": ""
             }
            },
            "type": "scatterpolargl"
           }
          ],
          "scatterternary": [
           {
            "marker": {
             "colorbar": {
              "outlinewidth": 0,
              "ticks": ""
             }
            },
            "type": "scatterternary"
           }
          ],
          "surface": [
           {
            "colorbar": {
             "outlinewidth": 0,
             "ticks": ""
            },
            "colorscale": [
             [
              0,
              "#0d0887"
             ],
             [
              0.1111111111111111,
              "#46039f"
             ],
             [
              0.2222222222222222,
              "#7201a8"
             ],
             [
              0.3333333333333333,
              "#9c179e"
             ],
             [
              0.4444444444444444,
              "#bd3786"
             ],
             [
              0.5555555555555556,
              "#d8576b"
             ],
             [
              0.6666666666666666,
              "#ed7953"
             ],
             [
              0.7777777777777778,
              "#fb9f3a"
             ],
             [
              0.8888888888888888,
              "#fdca26"
             ],
             [
              1,
              "#f0f921"
             ]
            ],
            "type": "surface"
           }
          ],
          "table": [
           {
            "cells": {
             "fill": {
              "color": "#EBF0F8"
             },
             "line": {
              "color": "white"
             }
            },
            "header": {
             "fill": {
              "color": "#C8D4E3"
             },
             "line": {
              "color": "white"
             }
            },
            "type": "table"
           }
          ]
         },
         "layout": {
          "annotationdefaults": {
           "arrowcolor": "#2a3f5f",
           "arrowhead": 0,
           "arrowwidth": 1
          },
          "autotypenumbers": "strict",
          "coloraxis": {
           "colorbar": {
            "outlinewidth": 0,
            "ticks": ""
           }
          },
          "colorscale": {
           "diverging": [
            [
             0,
             "#8e0152"
            ],
            [
             0.1,
             "#c51b7d"
            ],
            [
             0.2,
             "#de77ae"
            ],
            [
             0.3,
             "#f1b6da"
            ],
            [
             0.4,
             "#fde0ef"
            ],
            [
             0.5,
             "#f7f7f7"
            ],
            [
             0.6,
             "#e6f5d0"
            ],
            [
             0.7,
             "#b8e186"
            ],
            [
             0.8,
             "#7fbc41"
            ],
            [
             0.9,
             "#4d9221"
            ],
            [
             1,
             "#276419"
            ]
           ],
           "sequential": [
            [
             0,
             "#0d0887"
            ],
            [
             0.1111111111111111,
             "#46039f"
            ],
            [
             0.2222222222222222,
             "#7201a8"
            ],
            [
             0.3333333333333333,
             "#9c179e"
            ],
            [
             0.4444444444444444,
             "#bd3786"
            ],
            [
             0.5555555555555556,
             "#d8576b"
            ],
            [
             0.6666666666666666,
             "#ed7953"
            ],
            [
             0.7777777777777778,
             "#fb9f3a"
            ],
            [
             0.8888888888888888,
             "#fdca26"
            ],
            [
             1,
             "#f0f921"
            ]
           ],
           "sequentialminus": [
            [
             0,
             "#0d0887"
            ],
            [
             0.1111111111111111,
             "#46039f"
            ],
            [
             0.2222222222222222,
             "#7201a8"
            ],
            [
             0.3333333333333333,
             "#9c179e"
            ],
            [
             0.4444444444444444,
             "#bd3786"
            ],
            [
             0.5555555555555556,
             "#d8576b"
            ],
            [
             0.6666666666666666,
             "#ed7953"
            ],
            [
             0.7777777777777778,
             "#fb9f3a"
            ],
            [
             0.8888888888888888,
             "#fdca26"
            ],
            [
             1,
             "#f0f921"
            ]
           ]
          },
          "colorway": [
           "#636efa",
           "#EF553B",
           "#00cc96",
           "#ab63fa",
           "#FFA15A",
           "#19d3f3",
           "#FF6692",
           "#B6E880",
           "#FF97FF",
           "#FECB52"
          ],
          "font": {
           "color": "#2a3f5f"
          },
          "geo": {
           "bgcolor": "white",
           "lakecolor": "white",
           "landcolor": "#E5ECF6",
           "showlakes": true,
           "showland": true,
           "subunitcolor": "white"
          },
          "hoverlabel": {
           "align": "left"
          },
          "hovermode": "closest",
          "mapbox": {
           "style": "light"
          },
          "paper_bgcolor": "white",
          "plot_bgcolor": "#E5ECF6",
          "polar": {
           "angularaxis": {
            "gridcolor": "white",
            "linecolor": "white",
            "ticks": ""
           },
           "bgcolor": "#E5ECF6",
           "radialaxis": {
            "gridcolor": "white",
            "linecolor": "white",
            "ticks": ""
           }
          },
          "scene": {
           "xaxis": {
            "backgroundcolor": "#E5ECF6",
            "gridcolor": "white",
            "gridwidth": 2,
            "linecolor": "white",
            "showbackground": true,
            "ticks": "",
            "zerolinecolor": "white"
           },
           "yaxis": {
            "backgroundcolor": "#E5ECF6",
            "gridcolor": "white",
            "gridwidth": 2,
            "linecolor": "white",
            "showbackground": true,
            "ticks": "",
            "zerolinecolor": "white"
           },
           "zaxis": {
            "backgroundcolor": "#E5ECF6",
            "gridcolor": "white",
            "gridwidth": 2,
            "linecolor": "white",
            "showbackground": true,
            "ticks": "",
            "zerolinecolor": "white"
           }
          },
          "shapedefaults": {
           "line": {
            "color": "#2a3f5f"
           }
          },
          "ternary": {
           "aaxis": {
            "gridcolor": "white",
            "linecolor": "white",
            "ticks": ""
           },
           "baxis": {
            "gridcolor": "white",
            "linecolor": "white",
            "ticks": ""
           },
           "bgcolor": "#E5ECF6",
           "caxis": {
            "gridcolor": "white",
            "linecolor": "white",
            "ticks": ""
           }
          },
          "title": {
           "x": 0.05
          },
          "xaxis": {
           "automargin": true,
           "gridcolor": "white",
           "linecolor": "white",
           "ticks": "",
           "title": {
            "standoff": 15
           },
           "zerolinecolor": "white",
           "zerolinewidth": 2
          },
          "yaxis": {
           "automargin": true,
           "gridcolor": "white",
           "linecolor": "white",
           "ticks": "",
           "title": {
            "standoff": 15
           },
           "zerolinecolor": "white",
           "zerolinewidth": 2
          }
         }
        },
        "title": {
         "text": "Newton-Raphson Method (Plotly)"
        },
        "width": 800,
        "xaxis": {
         "title": {
          "text": "x"
         }
        },
        "yaxis": {
         "title": {
          "text": "f(x)"
         }
        }
       }
      }
     },
     "metadata": {},
     "output_type": "display_data"
    }
   ],
   "source": [
    "plot_newton_plotly(f_num,root, iterations)"
   ]
  },
  {
   "cell_type": "code",
   "execution_count": null,
   "id": "71aa693d",
   "metadata": {},
   "outputs": [],
   "source": []
  }
 ],
 "metadata": {
  "kernelspec": {
   "display_name": "Python 3",
   "language": "python",
   "name": "python3"
  },
  "language_info": {
   "codemirror_mode": {
    "name": "ipython",
    "version": 3
   },
   "file_extension": ".py",
   "mimetype": "text/x-python",
   "name": "python",
   "nbconvert_exporter": "python",
   "pygments_lexer": "ipython3",
   "version": "3.13.5"
  }
 },
 "nbformat": 4,
 "nbformat_minor": 5
}
