{
 "cells": [
  {
   "cell_type": "code",
   "execution_count": 1,
   "id": "a563017b",
   "metadata": {},
   "outputs": [
    {
     "name": "stderr",
     "output_type": "stream",
     "text": [
      "C:\\Users\\maria\\AppData\\Roaming\\Python\\Python313\\site-packages\\kaleido\\__init__.py:14: UserWarning: \n",
      "\n",
      "Warning: You have Plotly version 6.0.1, which is not compatible with this version of Kaleido (1.0.0).\n",
      "\n",
      "This means that static image generation (e.g. `fig.write_image()`) will not work.\n",
      "\n",
      "Please upgrade Plotly to version 6.1.1 or greater, or downgrade Kaleido to version 0.2.1.\n",
      "\n",
      "  from .kaleido import Kaleido\n"
     ]
    }
   ],
   "source": [
    "import sympy as sp\n",
    "import numpy as np\n",
    "import plotly.graph_objects as go\n",
    "import kaleido as kld"
   ]
  },
  {
   "cell_type": "code",
   "execution_count": 2,
   "id": "331b9615",
   "metadata": {},
   "outputs": [],
   "source": [
    "def newton_raphson(f, df, x0, tol=1e-6, max_iter=100):\n",
    "    x = x0\n",
    "    iterations = [x0]\n",
    "\n",
    "    for i in range(max_iter):\n",
    "        fx = f(x)\n",
    "        dfx = df(x)\n",
    "\n",
    "        if dfx == 0:\n",
    "            raise ZeroDivisionError(\"Derivada zero. Método falhou.\")\n",
    "\n",
    "        x_new = x - fx / dfx\n",
    "\n",
    "        if np.isnan(x_new) or np.isinf(x_new):\n",
    "            raise ValueError(\"Divergência numérica.\")\n",
    "\n",
    "        iterations.append(x_new)\n",
    "\n",
    "        if abs(x_new - x) < tol:\n",
    "            return x_new, iterations\n",
    "\n",
    "        x = x_new\n",
    "\n",
    "    raise ValueError(\"Número máximo de iterações atingido.\")\n",
    "\n"
   ]
  },
  {
   "cell_type": "code",
   "execution_count": 3,
   "id": "5da072a2",
   "metadata": {},
   "outputs": [],
   "source": [
    "\n",
    "\n",
    "def plot_newton_plotly(f, raiz, iteracoes):\n",
    "    \"\"\"\n",
    "    Plot the function and the iterations of the Newton-Raphson method using Plotly.\n",
    "\n",
    "    Parameters:\n",
    "    f : callable\n",
    "        The function to plot.\n",
    "    raiz : float\n",
    "        The root found by the method.\n",
    "    iteracoes : list\n",
    "        List of x values where the iterations occurred.\n",
    "    \"\"\"\n",
    "    x_vals = np.linspace(min(iteracoes) - 1, max(iteracoes) + 1, 4000)\n",
    "    y_vals = f(x_vals)\n",
    "\n",
    "    fig = go.Figure()\n",
    "\n",
    "    if isinstance(f, sp.Basic):\n",
    "        f_expr = sp.simplify(f)\n",
    "    else:\n",
    "        f_expr = f.__name__ if hasattr(f, '__name__') else str(f)\n",
    "\n",
    "    # Plot the function\n",
    "    fig.add_trace(go.Scatter(x=x_vals, y=y_vals, mode='lines', name='f(x)'))\n",
    "\n",
    "    # Plot the x-axis and y-axis\n",
    "    fig.add_trace(go.Scatter(x=[min(x_vals), max(x_vals)], y=[0, 0], mode='lines', line=dict(color='black', width=1), showlegend=False))\n",
    "    fig.add_trace(go.Scatter(x=[0, 0], y=[min(y_vals), max(y_vals)], mode='lines', line=dict(color='black', width=1), showlegend=False))\n",
    "\n",
    "    # Plot the iterations and tangents\n",
    "    for i in range(len(iteracoes) - 1):\n",
    "        xi = iteracoes[i]\n",
    "        yi = f(xi)\n",
    "        # Tangent line\n",
    "        fig.add_trace(go.Scatter(x=[xi, iteracoes[i+1]], y=[yi, 0], mode='lines', line=dict(color='red', dash='dash'), showlegend=False))\n",
    "        fig.add_trace(go.Scatter(x=[xi], y=[yi], mode='markers', marker=dict(color='red', size=8), showlegend=False))\n",
    "        fig.add_trace(go.Scatter(x=[iteracoes[i+1]], y=[0], mode='markers', marker=dict(color='green', size=8), showlegend=False))\n",
    "\n",
    "    # Plot the root\n",
    "    fig.add_trace(go.Scatter(x=[raiz], y=[f(raiz)], mode='markers', marker=dict(color='blue', size=12, symbol='star'), name=f'Root: {raiz:.4f}'))\n",
    "\n",
    "    fig.update_layout(\n",
    "        title=f\"Newton-Raphson Method: Root at x = {raiz:.4f} <br>Function: {f_expr}\",\n",
    "        xaxis_title=\"x\",\n",
    "        yaxis_title=\"f(x)\",\n",
    "        legend=dict(yanchor=\"top\", y=0.99, xanchor=\"left\", x=0.01),\n",
    "        width=800,\n",
    "        height=500\n",
    "        )\n",
    "    fig.show()"
   ]
  },
  {
   "cell_type": "code",
   "execution_count": 4,
   "id": "4706db1d",
   "metadata": {},
   "outputs": [],
   "source": [
    "locals_dict = {\n",
    "    \"pi\": sp.pi,\n",
    "    \"e\": sp.E,\n",
    "    \"ln\": sp.log,\n",
    "    \"log\": sp.log,\n",
    "    \"sin\": sp.sin,\n",
    "    \"cos\": sp.cos,\n",
    "    \"tan\": sp.tan,\n",
    "    \"exp\": sp.exp,\n",
    "    \"sqrt\": sp.sqrt,\n",
    "}"
   ]
  },
  {
   "cell_type": "code",
   "execution_count": 6,
   "id": "83cd960a",
   "metadata": {},
   "outputs": [
    {
     "name": "stdout",
     "output_type": "stream",
     "text": [
      "Função: 24*x**2, Derivada: 48*x\n"
     ]
    }
   ],
   "source": [
    "x = sp.symbols('x')\n",
    "\n",
    "f = input(\"Digite uma função de x (ex: sin(pi * x)): \")\n",
    "f_expr = sp.sympify(f, locals=locals_dict)\n",
    "\n",
    "f_prime = sp.diff(f_expr, x)\n",
    "print(f\"Função: {f_expr}, Derivada: {f_prime}\")"
   ]
  },
  {
   "cell_type": "code",
   "execution_count": 7,
   "id": "66d04113",
   "metadata": {},
   "outputs": [],
   "source": [
    "x = sp.symbols('x')\n",
    "f_num = sp.lambdify(x, f, 'numpy')\n",
    "f_prime_num = sp.lambdify(x, f_prime, 'numpy')\n"
   ]
  },
  {
   "cell_type": "code",
   "execution_count": 8,
   "id": "38596c07",
   "metadata": {},
   "outputs": [],
   "source": [
    "root, iterations = newton_raphson(f_num, f_prime_num, x0=1)"
   ]
  },
  {
   "cell_type": "code",
   "execution_count": 9,
   "id": "95202218",
   "metadata": {},
   "outputs": [
    {
     "data": {
      "application/vnd.plotly.v1+json": {
       "config": {
        "plotlyServerURL": "https://plot.ly"
       },
       "data": [
        {
         "mode": "lines",
         "name": "f(x)",
         "type": "scatter",
         "x": {
          "bdata": "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",
          "dtype": "f8"
         },
         "y": {
          "bdata": "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",
          "dtype": "f8"
         }
        },
        {
         "line": {
          "color": "black",
          "width": 1
         },
         "mode": "lines",
         "showlegend": false,
         "type": "scatter",
         "x": [
          -0.9999990463256836,
          2
         ],
         "y": [
          0,
          0
         ]
        },
        {
         "line": {
          "color": "black",
          "width": 1
         },
         "mode": "lines",
         "showlegend": false,
         "type": "scatter",
         "x": [
          0,
          0
         ],
         "y": [
          9.701276817781858e-12,
          96
         ]
        },
        {
         "line": {
          "color": "red",
          "dash": "dash"
         },
         "mode": "lines",
         "showlegend": false,
         "type": "scatter",
         "x": [
          1,
          0.5
         ],
         "y": [
          24,
          0
         ]
        },
        {
         "marker": {
          "color": "red",
          "size": 8
         },
         "mode": "markers",
         "showlegend": false,
         "type": "scatter",
         "x": [
          1
         ],
         "y": [
          24
         ]
        },
        {
         "marker": {
          "color": "green",
          "size": 8
         },
         "mode": "markers",
         "showlegend": false,
         "type": "scatter",
         "x": [
          0.5
         ],
         "y": [
          0
         ]
        },
        {
         "line": {
          "color": "red",
          "dash": "dash"
         },
         "mode": "lines",
         "showlegend": false,
         "type": "scatter",
         "x": [
          0.5,
          0.25
         ],
         "y": [
          6,
          0
         ]
        },
        {
         "marker": {
          "color": "red",
          "size": 8
         },
         "mode": "markers",
         "showlegend": false,
         "type": "scatter",
         "x": [
          0.5
         ],
         "y": [
          6
         ]
        },
        {
         "marker": {
          "color": "green",
          "size": 8
         },
         "mode": "markers",
         "showlegend": false,
         "type": "scatter",
         "x": [
          0.25
         ],
         "y": [
          0
         ]
        },
        {
         "line": {
          "color": "red",
          "dash": "dash"
         },
         "mode": "lines",
         "showlegend": false,
         "type": "scatter",
         "x": [
          0.25,
          0.125
         ],
         "y": [
          1.5,
          0
         ]
        },
        {
         "marker": {
          "color": "red",
          "size": 8
         },
         "mode": "markers",
         "showlegend": false,
         "type": "scatter",
         "x": [
          0.25
         ],
         "y": [
          1.5
         ]
        },
        {
         "marker": {
          "color": "green",
          "size": 8
         },
         "mode": "markers",
         "showlegend": false,
         "type": "scatter",
         "x": [
          0.125
         ],
         "y": [
          0
         ]
        },
        {
         "line": {
          "color": "red",
          "dash": "dash"
         },
         "mode": "lines",
         "showlegend": false,
         "type": "scatter",
         "x": [
          0.125,
          0.0625
         ],
         "y": [
          0.375,
          0
         ]
        },
        {
         "marker": {
          "color": "red",
          "size": 8
         },
         "mode": "markers",
         "showlegend": false,
         "type": "scatter",
         "x": [
          0.125
         ],
         "y": [
          0.375
         ]
        },
        {
         "marker": {
          "color": "green",
          "size": 8
         },
         "mode": "markers",
         "showlegend": false,
         "type": "scatter",
         "x": [
          0.0625
         ],
         "y": [
          0
         ]
        },
        {
         "line": {
          "color": "red",
          "dash": "dash"
         },
         "mode": "lines",
         "showlegend": false,
         "type": "scatter",
         "x": [
          0.0625,
          0.03125
         ],
         "y": [
          0.09375,
          0
         ]
        },
        {
         "marker": {
          "color": "red",
          "size": 8
         },
         "mode": "markers",
         "showlegend": false,
         "type": "scatter",
         "x": [
          0.0625
         ],
         "y": [
          0.09375
         ]
        },
        {
         "marker": {
          "color": "green",
          "size": 8
         },
         "mode": "markers",
         "showlegend": false,
         "type": "scatter",
         "x": [
          0.03125
         ],
         "y": [
          0
         ]
        },
        {
         "line": {
          "color": "red",
          "dash": "dash"
         },
         "mode": "lines",
         "showlegend": false,
         "type": "scatter",
         "x": [
          0.03125,
          0.015625
         ],
         "y": [
          0.0234375,
          0
         ]
        },
        {
         "marker": {
          "color": "red",
          "size": 8
         },
         "mode": "markers",
         "showlegend": false,
         "type": "scatter",
         "x": [
          0.03125
         ],
         "y": [
          0.0234375
         ]
        },
        {
         "marker": {
          "color": "green",
          "size": 8
         },
         "mode": "markers",
         "showlegend": false,
         "type": "scatter",
         "x": [
          0.015625
         ],
         "y": [
          0
         ]
        },
        {
         "line": {
          "color": "red",
          "dash": "dash"
         },
         "mode": "lines",
         "showlegend": false,
         "type": "scatter",
         "x": [
          0.015625,
          0.0078125
         ],
         "y": [
          0.005859375,
          0
         ]
        },
        {
         "marker": {
          "color": "red",
          "size": 8
         },
         "mode": "markers",
         "showlegend": false,
         "type": "scatter",
         "x": [
          0.015625
         ],
         "y": [
          0.005859375
         ]
        },
        {
         "marker": {
          "color": "green",
          "size": 8
         },
         "mode": "markers",
         "showlegend": false,
         "type": "scatter",
         "x": [
          0.0078125
         ],
         "y": [
          0
         ]
        },
        {
         "line": {
          "color": "red",
          "dash": "dash"
         },
         "mode": "lines",
         "showlegend": false,
         "type": "scatter",
         "x": [
          0.0078125,
          0.00390625
         ],
         "y": [
          0.00146484375,
          0
         ]
        },
        {
         "marker": {
          "color": "red",
          "size": 8
         },
         "mode": "markers",
         "showlegend": false,
         "type": "scatter",
         "x": [
          0.0078125
         ],
         "y": [
          0.00146484375
         ]
        },
        {
         "marker": {
          "color": "green",
          "size": 8
         },
         "mode": "markers",
         "showlegend": false,
         "type": "scatter",
         "x": [
          0.00390625
         ],
         "y": [
          0
         ]
        },
        {
         "line": {
          "color": "red",
          "dash": "dash"
         },
         "mode": "lines",
         "showlegend": false,
         "type": "scatter",
         "x": [
          0.00390625,
          0.001953125
         ],
         "y": [
          0.0003662109375,
          0
         ]
        },
        {
         "marker": {
          "color": "red",
          "size": 8
         },
         "mode": "markers",
         "showlegend": false,
         "type": "scatter",
         "x": [
          0.00390625
         ],
         "y": [
          0.0003662109375
         ]
        },
        {
         "marker": {
          "color": "green",
          "size": 8
         },
         "mode": "markers",
         "showlegend": false,
         "type": "scatter",
         "x": [
          0.001953125
         ],
         "y": [
          0
         ]
        },
        {
         "line": {
          "color": "red",
          "dash": "dash"
         },
         "mode": "lines",
         "showlegend": false,
         "type": "scatter",
         "x": [
          0.001953125,
          0.0009765625
         ],
         "y": [
          0.000091552734375,
          0
         ]
        },
        {
         "marker": {
          "color": "red",
          "size": 8
         },
         "mode": "markers",
         "showlegend": false,
         "type": "scatter",
         "x": [
          0.001953125
         ],
         "y": [
          0.000091552734375
         ]
        },
        {
         "marker": {
          "color": "green",
          "size": 8
         },
         "mode": "markers",
         "showlegend": false,
         "type": "scatter",
         "x": [
          0.0009765625
         ],
         "y": [
          0
         ]
        },
        {
         "line": {
          "color": "red",
          "dash": "dash"
         },
         "mode": "lines",
         "showlegend": false,
         "type": "scatter",
         "x": [
          0.0009765625,
          0.00048828125
         ],
         "y": [
          0.00002288818359375,
          0
         ]
        },
        {
         "marker": {
          "color": "red",
          "size": 8
         },
         "mode": "markers",
         "showlegend": false,
         "type": "scatter",
         "x": [
          0.0009765625
         ],
         "y": [
          0.00002288818359375
         ]
        },
        {
         "marker": {
          "color": "green",
          "size": 8
         },
         "mode": "markers",
         "showlegend": false,
         "type": "scatter",
         "x": [
          0.00048828125
         ],
         "y": [
          0
         ]
        },
        {
         "line": {
          "color": "red",
          "dash": "dash"
         },
         "mode": "lines",
         "showlegend": false,
         "type": "scatter",
         "x": [
          0.00048828125,
          0.000244140625
         ],
         "y": [
          0.0000057220458984375,
          0
         ]
        },
        {
         "marker": {
          "color": "red",
          "size": 8
         },
         "mode": "markers",
         "showlegend": false,
         "type": "scatter",
         "x": [
          0.00048828125
         ],
         "y": [
          0.0000057220458984375
         ]
        },
        {
         "marker": {
          "color": "green",
          "size": 8
         },
         "mode": "markers",
         "showlegend": false,
         "type": "scatter",
         "x": [
          0.000244140625
         ],
         "y": [
          0
         ]
        },
        {
         "line": {
          "color": "red",
          "dash": "dash"
         },
         "mode": "lines",
         "showlegend": false,
         "type": "scatter",
         "x": [
          0.000244140625,
          0.0001220703125
         ],
         "y": [
          0.000001430511474609375,
          0
         ]
        },
        {
         "marker": {
          "color": "red",
          "size": 8
         },
         "mode": "markers",
         "showlegend": false,
         "type": "scatter",
         "x": [
          0.000244140625
         ],
         "y": [
          0.000001430511474609375
         ]
        },
        {
         "marker": {
          "color": "green",
          "size": 8
         },
         "mode": "markers",
         "showlegend": false,
         "type": "scatter",
         "x": [
          0.0001220703125
         ],
         "y": [
          0
         ]
        },
        {
         "line": {
          "color": "red",
          "dash": "dash"
         },
         "mode": "lines",
         "showlegend": false,
         "type": "scatter",
         "x": [
          0.0001220703125,
          0.00006103515625
         ],
         "y": [
          3.5762786865234375e-7,
          0
         ]
        },
        {
         "marker": {
          "color": "red",
          "size": 8
         },
         "mode": "markers",
         "showlegend": false,
         "type": "scatter",
         "x": [
          0.0001220703125
         ],
         "y": [
          3.5762786865234375e-7
         ]
        },
        {
         "marker": {
          "color": "green",
          "size": 8
         },
         "mode": "markers",
         "showlegend": false,
         "type": "scatter",
         "x": [
          0.00006103515625
         ],
         "y": [
          0
         ]
        },
        {
         "line": {
          "color": "red",
          "dash": "dash"
         },
         "mode": "lines",
         "showlegend": false,
         "type": "scatter",
         "x": [
          0.00006103515625,
          0.000030517578125
         ],
         "y": [
          8.940696716308594e-8,
          0
         ]
        },
        {
         "marker": {
          "color": "red",
          "size": 8
         },
         "mode": "markers",
         "showlegend": false,
         "type": "scatter",
         "x": [
          0.00006103515625
         ],
         "y": [
          8.940696716308594e-8
         ]
        },
        {
         "marker": {
          "color": "green",
          "size": 8
         },
         "mode": "markers",
         "showlegend": false,
         "type": "scatter",
         "x": [
          0.000030517578125
         ],
         "y": [
          0
         ]
        },
        {
         "line": {
          "color": "red",
          "dash": "dash"
         },
         "mode": "lines",
         "showlegend": false,
         "type": "scatter",
         "x": [
          0.000030517578125,
          0.0000152587890625
         ],
         "y": [
          2.2351741790771484e-8,
          0
         ]
        },
        {
         "marker": {
          "color": "red",
          "size": 8
         },
         "mode": "markers",
         "showlegend": false,
         "type": "scatter",
         "x": [
          0.000030517578125
         ],
         "y": [
          2.2351741790771484e-8
         ]
        },
        {
         "marker": {
          "color": "green",
          "size": 8
         },
         "mode": "markers",
         "showlegend": false,
         "type": "scatter",
         "x": [
          0.0000152587890625
         ],
         "y": [
          0
         ]
        },
        {
         "line": {
          "color": "red",
          "dash": "dash"
         },
         "mode": "lines",
         "showlegend": false,
         "type": "scatter",
         "x": [
          0.0000152587890625,
          0.00000762939453125
         ],
         "y": [
          5.587935447692871e-9,
          0
         ]
        },
        {
         "marker": {
          "color": "red",
          "size": 8
         },
         "mode": "markers",
         "showlegend": false,
         "type": "scatter",
         "x": [
          0.0000152587890625
         ],
         "y": [
          5.587935447692871e-9
         ]
        },
        {
         "marker": {
          "color": "green",
          "size": 8
         },
         "mode": "markers",
         "showlegend": false,
         "type": "scatter",
         "x": [
          0.00000762939453125
         ],
         "y": [
          0
         ]
        },
        {
         "line": {
          "color": "red",
          "dash": "dash"
         },
         "mode": "lines",
         "showlegend": false,
         "type": "scatter",
         "x": [
          0.00000762939453125,
          0.000003814697265625
         ],
         "y": [
          1.3969838619232178e-9,
          0
         ]
        },
        {
         "marker": {
          "color": "red",
          "size": 8
         },
         "mode": "markers",
         "showlegend": false,
         "type": "scatter",
         "x": [
          0.00000762939453125
         ],
         "y": [
          1.3969838619232178e-9
         ]
        },
        {
         "marker": {
          "color": "green",
          "size": 8
         },
         "mode": "markers",
         "showlegend": false,
         "type": "scatter",
         "x": [
          0.000003814697265625
         ],
         "y": [
          0
         ]
        },
        {
         "line": {
          "color": "red",
          "dash": "dash"
         },
         "mode": "lines",
         "showlegend": false,
         "type": "scatter",
         "x": [
          0.000003814697265625,
          0.0000019073486328125
         ],
         "y": [
          3.4924596548080444e-10,
          0
         ]
        },
        {
         "marker": {
          "color": "red",
          "size": 8
         },
         "mode": "markers",
         "showlegend": false,
         "type": "scatter",
         "x": [
          0.000003814697265625
         ],
         "y": [
          3.4924596548080444e-10
         ]
        },
        {
         "marker": {
          "color": "green",
          "size": 8
         },
         "mode": "markers",
         "showlegend": false,
         "type": "scatter",
         "x": [
          0.0000019073486328125
         ],
         "y": [
          0
         ]
        },
        {
         "line": {
          "color": "red",
          "dash": "dash"
         },
         "mode": "lines",
         "showlegend": false,
         "type": "scatter",
         "x": [
          0.0000019073486328125,
          9.5367431640625e-7
         ],
         "y": [
          8.731149137020111e-11,
          0
         ]
        },
        {
         "marker": {
          "color": "red",
          "size": 8
         },
         "mode": "markers",
         "showlegend": false,
         "type": "scatter",
         "x": [
          0.0000019073486328125
         ],
         "y": [
          8.731149137020111e-11
         ]
        },
        {
         "marker": {
          "color": "green",
          "size": 8
         },
         "mode": "markers",
         "showlegend": false,
         "type": "scatter",
         "x": [
          9.5367431640625e-7
         ],
         "y": [
          0
         ]
        },
        {
         "marker": {
          "color": "blue",
          "size": 12,
          "symbol": "star"
         },
         "mode": "markers",
         "name": "Root: 0.0000",
         "type": "scatter",
         "x": [
          9.5367431640625e-7
         ],
         "y": [
          2.1827872842550278e-11
         ]
        }
       ],
       "layout": {
        "height": 500,
        "legend": {
         "x": 0.01,
         "xanchor": "left",
         "y": 0.99,
         "yanchor": "top"
        },
        "template": {
         "data": {
          "bar": [
           {
            "error_x": {
             "color": "#2a3f5f"
            },
            "error_y": {
             "color": "#2a3f5f"
            },
            "marker": {
             "line": {
              "color": "#E5ECF6",
              "width": 0.5
             },
             "pattern": {
              "fillmode": "overlay",
              "size": 10,
              "solidity": 0.2
             }
            },
            "type": "bar"
           }
          ],
          "barpolar": [
           {
            "marker": {
             "line": {
              "color": "#E5ECF6",
              "width": 0.5
             },
             "pattern": {
              "fillmode": "overlay",
              "size": 10,
              "solidity": 0.2
             }
            },
            "type": "barpolar"
           }
          ],
          "carpet": [
           {
            "aaxis": {
             "endlinecolor": "#2a3f5f",
             "gridcolor": "white",
             "linecolor": "white",
             "minorgridcolor": "white",
             "startlinecolor": "#2a3f5f"
            },
            "baxis": {
             "endlinecolor": "#2a3f5f",
             "gridcolor": "white",
             "linecolor": "white",
             "minorgridcolor": "white",
             "startlinecolor": "#2a3f5f"
            },
            "type": "carpet"
           }
          ],
          "choropleth": [
           {
            "colorbar": {
             "outlinewidth": 0,
             "ticks": ""
            },
            "type": "choropleth"
           }
          ],
          "contour": [
           {
            "colorbar": {
             "outlinewidth": 0,
             "ticks": ""
            },
            "colorscale": [
             [
              0,
              "#0d0887"
             ],
             [
              0.1111111111111111,
              "#46039f"
             ],
             [
              0.2222222222222222,
              "#7201a8"
             ],
             [
              0.3333333333333333,
              "#9c179e"
             ],
             [
              0.4444444444444444,
              "#bd3786"
             ],
             [
              0.5555555555555556,
              "#d8576b"
             ],
             [
              0.6666666666666666,
              "#ed7953"
             ],
             [
              0.7777777777777778,
              "#fb9f3a"
             ],
             [
              0.8888888888888888,
              "#fdca26"
             ],
             [
              1,
              "#f0f921"
             ]
            ],
            "type": "contour"
           }
          ],
          "contourcarpet": [
           {
            "colorbar": {
             "outlinewidth": 0,
             "ticks": ""
            },
            "type": "contourcarpet"
           }
          ],
          "heatmap": [
           {
            "colorbar": {
             "outlinewidth": 0,
             "ticks": ""
            },
            "colorscale": [
             [
              0,
              "#0d0887"
             ],
             [
              0.1111111111111111,
              "#46039f"
             ],
             [
              0.2222222222222222,
              "#7201a8"
             ],
             [
              0.3333333333333333,
              "#9c179e"
             ],
             [
              0.4444444444444444,
              "#bd3786"
             ],
             [
              0.5555555555555556,
              "#d8576b"
             ],
             [
              0.6666666666666666,
              "#ed7953"
             ],
             [
              0.7777777777777778,
              "#fb9f3a"
             ],
             [
              0.8888888888888888,
              "#fdca26"
             ],
             [
              1,
              "#f0f921"
             ]
            ],
            "type": "heatmap"
           }
          ],
          "histogram": [
           {
            "marker": {
             "pattern": {
              "fillmode": "overlay",
              "size": 10,
              "solidity": 0.2
             }
            },
            "type": "histogram"
           }
          ],
          "histogram2d": [
           {
            "colorbar": {
             "outlinewidth": 0,
             "ticks": ""
            },
            "colorscale": [
             [
              0,
              "#0d0887"
             ],
             [
              0.1111111111111111,
              "#46039f"
             ],
             [
              0.2222222222222222,
              "#7201a8"
             ],
             [
              0.3333333333333333,
              "#9c179e"
             ],
             [
              0.4444444444444444,
              "#bd3786"
             ],
             [
              0.5555555555555556,
              "#d8576b"
             ],
             [
              0.6666666666666666,
              "#ed7953"
             ],
             [
              0.7777777777777778,
              "#fb9f3a"
             ],
             [
              0.8888888888888888,
              "#fdca26"
             ],
             [
              1,
              "#f0f921"
             ]
            ],
            "type": "histogram2d"
           }
          ],
          "histogram2dcontour": [
           {
            "colorbar": {
             "outlinewidth": 0,
             "ticks": ""
            },
            "colorscale": [
             [
              0,
              "#0d0887"
             ],
             [
              0.1111111111111111,
              "#46039f"
             ],
             [
              0.2222222222222222,
              "#7201a8"
             ],
             [
              0.3333333333333333,
              "#9c179e"
             ],
             [
              0.4444444444444444,
              "#bd3786"
             ],
             [
              0.5555555555555556,
              "#d8576b"
             ],
             [
              0.6666666666666666,
              "#ed7953"
             ],
             [
              0.7777777777777778,
              "#fb9f3a"
             ],
             [
              0.8888888888888888,
              "#fdca26"
             ],
             [
              1,
              "#f0f921"
             ]
            ],
            "type": "histogram2dcontour"
           }
          ],
          "mesh3d": [
           {
            "colorbar": {
             "outlinewidth": 0,
             "ticks": ""
            },
            "type": "mesh3d"
           }
          ],
          "parcoords": [
           {
            "line": {
             "colorbar": {
              "outlinewidth": 0,
              "ticks": ""
             }
            },
            "type": "parcoords"
           }
          ],
          "pie": [
           {
            "automargin": true,
            "type": "pie"
           }
          ],
          "scatter": [
           {
            "fillpattern": {
             "fillmode": "overlay",
             "size": 10,
             "solidity": 0.2
            },
            "type": "scatter"
           }
          ],
          "scatter3d": [
           {
            "line": {
             "colorbar": {
              "outlinewidth": 0,
              "ticks": ""
             }
            },
            "marker": {
             "colorbar": {
              "outlinewidth": 0,
              "ticks": ""
             }
            },
            "type": "scatter3d"
           }
          ],
          "scattercarpet": [
           {
            "marker": {
             "colorbar": {
              "outlinewidth": 0,
              "ticks": ""
             }
            },
            "type": "scattercarpet"
           }
          ],
          "scattergeo": [
           {
            "marker": {
             "colorbar": {
              "outlinewidth": 0,
              "ticks": ""
             }
            },
            "type": "scattergeo"
           }
          ],
          "scattergl": [
           {
            "marker": {
             "colorbar": {
              "outlinewidth": 0,
              "ticks": ""
             }
            },
            "type": "scattergl"
           }
          ],
          "scattermap": [
           {
            "marker": {
             "colorbar": {
              "outlinewidth": 0,
              "ticks": ""
             }
            },
            "type": "scattermap"
           }
          ],
          "scattermapbox": [
           {
            "marker": {
             "colorbar": {
              "outlinewidth": 0,
              "ticks": ""
             }
            },
            "type": "scattermapbox"
           }
          ],
          "scatterpolar": [
           {
            "marker": {
             "colorbar": {
              "outlinewidth": 0,
              "ticks": ""
             }
            },
            "type": "scatterpolar"
           }
          ],
          "scatterpolargl": [
           {
            "marker": {
             "colorbar": {
              "outlinewidth": 0,
              "ticks": ""
             }
            },
            "type": "scatterpolargl"
           }
          ],
          "scatterternary": [
           {
            "marker": {
             "colorbar": {
              "outlinewidth": 0,
              "ticks": ""
             }
            },
            "type": "scatterternary"
           }
          ],
          "surface": [
           {
            "colorbar": {
             "outlinewidth": 0,
             "ticks": ""
            },
            "colorscale": [
             [
              0,
              "#0d0887"
             ],
             [
              0.1111111111111111,
              "#46039f"
             ],
             [
              0.2222222222222222,
              "#7201a8"
             ],
             [
              0.3333333333333333,
              "#9c179e"
             ],
             [
              0.4444444444444444,
              "#bd3786"
             ],
             [
              0.5555555555555556,
              "#d8576b"
             ],
             [
              0.6666666666666666,
              "#ed7953"
             ],
             [
              0.7777777777777778,
              "#fb9f3a"
             ],
             [
              0.8888888888888888,
              "#fdca26"
             ],
             [
              1,
              "#f0f921"
             ]
            ],
            "type": "surface"
           }
          ],
          "table": [
           {
            "cells": {
             "fill": {
              "color": "#EBF0F8"
             },
             "line": {
              "color": "white"
             }
            },
            "header": {
             "fill": {
              "color": "#C8D4E3"
             },
             "line": {
              "color": "white"
             }
            },
            "type": "table"
           }
          ]
         },
         "layout": {
          "annotationdefaults": {
           "arrowcolor": "#2a3f5f",
           "arrowhead": 0,
           "arrowwidth": 1
          },
          "autotypenumbers": "strict",
          "coloraxis": {
           "colorbar": {
            "outlinewidth": 0,
            "ticks": ""
           }
          },
          "colorscale": {
           "diverging": [
            [
             0,
             "#8e0152"
            ],
            [
             0.1,
             "#c51b7d"
            ],
            [
             0.2,
             "#de77ae"
            ],
            [
             0.3,
             "#f1b6da"
            ],
            [
             0.4,
             "#fde0ef"
            ],
            [
             0.5,
             "#f7f7f7"
            ],
            [
             0.6,
             "#e6f5d0"
            ],
            [
             0.7,
             "#b8e186"
            ],
            [
             0.8,
             "#7fbc41"
            ],
            [
             0.9,
             "#4d9221"
            ],
            [
             1,
             "#276419"
            ]
           ],
           "sequential": [
            [
             0,
             "#0d0887"
            ],
            [
             0.1111111111111111,
             "#46039f"
            ],
            [
             0.2222222222222222,
             "#7201a8"
            ],
            [
             0.3333333333333333,
             "#9c179e"
            ],
            [
             0.4444444444444444,
             "#bd3786"
            ],
            [
             0.5555555555555556,
             "#d8576b"
            ],
            [
             0.6666666666666666,
             "#ed7953"
            ],
            [
             0.7777777777777778,
             "#fb9f3a"
            ],
            [
             0.8888888888888888,
             "#fdca26"
            ],
            [
             1,
             "#f0f921"
            ]
           ],
           "sequentialminus": [
            [
             0,
             "#0d0887"
            ],
            [
             0.1111111111111111,
             "#46039f"
            ],
            [
             0.2222222222222222,
             "#7201a8"
            ],
            [
             0.3333333333333333,
             "#9c179e"
            ],
            [
             0.4444444444444444,
             "#bd3786"
            ],
            [
             0.5555555555555556,
             "#d8576b"
            ],
            [
             0.6666666666666666,
             "#ed7953"
            ],
            [
             0.7777777777777778,
             "#fb9f3a"
            ],
            [
             0.8888888888888888,
             "#fdca26"
            ],
            [
             1,
             "#f0f921"
            ]
           ]
          },
          "colorway": [
           "#636efa",
           "#EF553B",
           "#00cc96",
           "#ab63fa",
           "#FFA15A",
           "#19d3f3",
           "#FF6692",
           "#B6E880",
           "#FF97FF",
           "#FECB52"
          ],
          "font": {
           "color": "#2a3f5f"
          },
          "geo": {
           "bgcolor": "white",
           "lakecolor": "white",
           "landcolor": "#E5ECF6",
           "showlakes": true,
           "showland": true,
           "subunitcolor": "white"
          },
          "hoverlabel": {
           "align": "left"
          },
          "hovermode": "closest",
          "mapbox": {
           "style": "light"
          },
          "paper_bgcolor": "white",
          "plot_bgcolor": "#E5ECF6",
          "polar": {
           "angularaxis": {
            "gridcolor": "white",
            "linecolor": "white",
            "ticks": ""
           },
           "bgcolor": "#E5ECF6",
           "radialaxis": {
            "gridcolor": "white",
            "linecolor": "white",
            "ticks": ""
           }
          },
          "scene": {
           "xaxis": {
            "backgroundcolor": "#E5ECF6",
            "gridcolor": "white",
            "gridwidth": 2,
            "linecolor": "white",
            "showbackground": true,
            "ticks": "",
            "zerolinecolor": "white"
           },
           "yaxis": {
            "backgroundcolor": "#E5ECF6",
            "gridcolor": "white",
            "gridwidth": 2,
            "linecolor": "white",
            "showbackground": true,
            "ticks": "",
            "zerolinecolor": "white"
           },
           "zaxis": {
            "backgroundcolor": "#E5ECF6",
            "gridcolor": "white",
            "gridwidth": 2,
            "linecolor": "white",
            "showbackground": true,
            "ticks": "",
            "zerolinecolor": "white"
           }
          },
          "shapedefaults": {
           "line": {
            "color": "#2a3f5f"
           }
          },
          "ternary": {
           "aaxis": {
            "gridcolor": "white",
            "linecolor": "white",
            "ticks": ""
           },
           "baxis": {
            "gridcolor": "white",
            "linecolor": "white",
            "ticks": ""
           },
           "bgcolor": "#E5ECF6",
           "caxis": {
            "gridcolor": "white",
            "linecolor": "white",
            "ticks": ""
           }
          },
          "title": {
           "x": 0.05
          },
          "xaxis": {
           "automargin": true,
           "gridcolor": "white",
           "linecolor": "white",
           "ticks": "",
           "title": {
            "standoff": 15
           },
           "zerolinecolor": "white",
           "zerolinewidth": 2
          },
          "yaxis": {
           "automargin": true,
           "gridcolor": "white",
           "linecolor": "white",
           "ticks": "",
           "title": {
            "standoff": 15
           },
           "zerolinecolor": "white",
           "zerolinewidth": 2
          }
         }
        },
        "title": {
         "text": "Newton-Raphson Method: Root at x = 0.0000 <br>Function: _lambdifygenerated"
        },
        "width": 800,
        "xaxis": {
         "title": {
          "text": "x"
         }
        },
        "yaxis": {
         "title": {
          "text": "f(x)"
         }
        }
       }
      }
     },
     "metadata": {},
     "output_type": "display_data"
    }
   ],
   "source": [
    "plot_newton_plotly(f_num,root, iterations)"
   ]
  },
  {
   "cell_type": "code",
   "execution_count": null,
   "id": "07690f1b",
   "metadata": {},
   "outputs": [
    {
     "data": {
      "application/vnd.plotly.v1+json": {
       "config": {
        "plotlyServerURL": "https://plot.ly"
       },
       "data": [
        {
         "mode": "lines",
         "name": "f(x)",
         "type": "scatter",
         "x": {
          "bdata": "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",
          "dtype": "f8"
         },
         "y": {
          "bdata": "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",
          "dtype": "f8"
         }
        },
        {
         "line": {
          "color": "black",
          "width": 1
         },
         "mode": "lines",
         "showlegend": false,
         "type": "scatter",
         "x": [
          -2.5615342184082572,
          64.95492314634191
         ],
         "y": [
          0,
          0
         ]
        },
        {
         "line": {
          "color": "black",
          "width": 1
         },
         "mode": "lines",
         "showlegend": false,
         "type": "scatter",
         "x": [
          0,
          0
         ],
         "y": [
          -0.6666666509549253,
          1.9999999275760696
         ]
        },
        {
         "line": {
          "color": "red",
          "dash": "dash"
         },
         "mode": "lines",
         "showlegend": false,
         "type": "scatter",
         "x": [
          1,
          -1.5615342184082572
         ],
         "y": [
          -0.603250573260484,
          0
         ]
        },
        {
         "marker": {
          "color": "red",
          "size": 8
         },
         "mode": "markers",
         "showlegend": false,
         "type": "scatter",
         "x": [
          1
         ],
         "y": [
          -0.603250573260484
         ]
        },
        {
         "marker": {
          "color": "green",
          "size": 8
         },
         "mode": "markers",
         "showlegend": false,
         "type": "scatter",
         "x": [
          -1.5615342184082572
         ],
         "y": [
          0
         ]
        },
        {
         "line": {
          "color": "red",
          "dash": "dash"
         },
         "mode": "lines",
         "showlegend": false,
         "type": "scatter",
         "x": [
          -1.5615342184082572,
          63.95492314634191
         ],
         "y": [
          1.9998586349366656,
          0
         ]
        },
        {
         "marker": {
          "color": "red",
          "size": 8
         },
         "mode": "markers",
         "showlegend": false,
         "type": "scatter",
         "x": [
          -1.5615342184082572
         ],
         "y": [
          1.9998586349366656
         ]
        },
        {
         "marker": {
          "color": "green",
          "size": 8
         },
         "mode": "markers",
         "showlegend": false,
         "type": "scatter",
         "x": [
          63.95492314634191
         ],
         "y": [
          0
         ]
        },
        {
         "line": {
          "color": "red",
          "dash": "dash"
         },
         "mode": "lines",
         "showlegend": false,
         "type": "scatter",
         "x": [
          63.95492314634191,
          60.397134587603475
         ],
         "y": [
          -0.628544506255161,
          0
         ]
        },
        {
         "marker": {
          "color": "red",
          "size": 8
         },
         "mode": "markers",
         "showlegend": false,
         "type": "scatter",
         "x": [
          63.95492314634191
         ],
         "y": [
          -0.628544506255161
         ]
        },
        {
         "marker": {
          "color": "green",
          "size": 8
         },
         "mode": "markers",
         "showlegend": false,
         "type": "scatter",
         "x": [
          60.397134587603475
         ],
         "y": [
          0
         ]
        },
        {
         "line": {
          "color": "red",
          "dash": "dash"
         },
         "mode": "lines",
         "showlegend": false,
         "type": "scatter",
         "x": [
          60.397134587603475,
          59.78654314040246
         ],
         "y": [
          1.041132548222691,
          0
         ]
        },
        {
         "marker": {
          "color": "red",
          "size": 8
         },
         "mode": "markers",
         "showlegend": false,
         "type": "scatter",
         "x": [
          60.397134587603475
         ],
         "y": [
          1.041132548222691
         ]
        },
        {
         "marker": {
          "color": "green",
          "size": 8
         },
         "mode": "markers",
         "showlegend": false,
         "type": "scatter",
         "x": [
          59.78654314040246
         ],
         "y": [
          0
         ]
        },
        {
         "line": {
          "color": "red",
          "dash": "dash"
         },
         "mode": "lines",
         "showlegend": false,
         "type": "scatter",
         "x": [
          59.78654314040246,
          59.694887050772344
         ],
         "y": [
          0.1113928239552453,
          0
         ]
        },
        {
         "marker": {
          "color": "red",
          "size": 8
         },
         "mode": "markers",
         "showlegend": false,
         "type": "scatter",
         "x": [
          59.78654314040246
         ],
         "y": [
          0.1113928239552453
         ]
        },
        {
         "marker": {
          "color": "green",
          "size": 8
         },
         "mode": "markers",
         "showlegend": false,
         "type": "scatter",
         "x": [
          59.694887050772344
         ],
         "y": [
          0
         ]
        },
        {
         "line": {
          "color": "red",
          "dash": "dash"
         },
         "mode": "lines",
         "showlegend": false,
         "type": "scatter",
         "x": [
          59.694887050772344,
          59.6902721236373
         ],
         "y": [
          0.005095796891805948,
          0
         ]
        },
        {
         "marker": {
          "color": "red",
          "size": 8
         },
         "mode": "markers",
         "showlegend": false,
         "type": "scatter",
         "x": [
          59.694887050772344
         ],
         "y": [
          0.005095796891805948
         ]
        },
        {
         "marker": {
          "color": "green",
          "size": 8
         },
         "mode": "markers",
         "showlegend": false,
         "type": "scatter",
         "x": [
          59.6902721236373
         ],
         "y": [
          0
         ]
        },
        {
         "line": {
          "color": "red",
          "dash": "dash"
         },
         "mode": "lines",
         "showlegend": false,
         "type": "scatter",
         "x": [
          59.6902721236373,
          59.69026041828133
         ],
         "y": [
          0.000012859813277810161,
          0
         ]
        },
        {
         "marker": {
          "color": "red",
          "size": 8
         },
         "mode": "markers",
         "showlegend": false,
         "type": "scatter",
         "x": [
          59.6902721236373
         ],
         "y": [
          0.000012859813277810161
         ]
        },
        {
         "marker": {
          "color": "green",
          "size": 8
         },
         "mode": "markers",
         "showlegend": false,
         "type": "scatter",
         "x": [
          59.69026041828133
         ],
         "y": [
          0
         ]
        },
        {
         "line": {
          "color": "red",
          "dash": "dash"
         },
         "mode": "lines",
         "showlegend": false,
         "type": "scatter",
         "x": [
          59.69026041828133,
          59.69026041820607
         ],
         "y": [
          8.268363771435361e-11,
          0
         ]
        },
        {
         "marker": {
          "color": "red",
          "size": 8
         },
         "mode": "markers",
         "showlegend": false,
         "type": "scatter",
         "x": [
          59.69026041828133
         ],
         "y": [
          8.268363771435361e-11
         ]
        },
        {
         "marker": {
          "color": "green",
          "size": 8
         },
         "mode": "markers",
         "showlegend": false,
         "type": "scatter",
         "x": [
          59.69026041820607
         ],
         "y": [
          0
         ]
        },
        {
         "marker": {
          "color": "blue",
          "size": 12,
          "symbol": "star"
         },
         "mode": "markers",
         "name": "Root: 59.6903",
         "type": "scatter",
         "x": [
          59.69026041820607
         ],
         "y": [
          1.3322676295501878e-15
         ]
        }
       ],
       "layout": {
        "height": 500,
        "legend": {
         "x": 0.01,
         "xanchor": "left",
         "y": 0.99,
         "yanchor": "top"
        },
        "template": {
         "data": {
          "bar": [
           {
            "error_x": {
             "color": "#2a3f5f"
            },
            "error_y": {
             "color": "#2a3f5f"
            },
            "marker": {
             "line": {
              "color": "#E5ECF6",
              "width": 0.5
             },
             "pattern": {
              "fillmode": "overlay",
              "size": 10,
              "solidity": 0.2
             }
            },
            "type": "bar"
           }
          ],
          "barpolar": [
           {
            "marker": {
             "line": {
              "color": "#E5ECF6",
              "width": 0.5
             },
             "pattern": {
              "fillmode": "overlay",
              "size": 10,
              "solidity": 0.2
             }
            },
            "type": "barpolar"
           }
          ],
          "carpet": [
           {
            "aaxis": {
             "endlinecolor": "#2a3f5f",
             "gridcolor": "white",
             "linecolor": "white",
             "minorgridcolor": "white",
             "startlinecolor": "#2a3f5f"
            },
            "baxis": {
             "endlinecolor": "#2a3f5f",
             "gridcolor": "white",
             "linecolor": "white",
             "minorgridcolor": "white",
             "startlinecolor": "#2a3f5f"
            },
            "type": "carpet"
           }
          ],
          "choropleth": [
           {
            "colorbar": {
             "outlinewidth": 0,
             "ticks": ""
            },
            "type": "choropleth"
           }
          ],
          "contour": [
           {
            "colorbar": {
             "outlinewidth": 0,
             "ticks": ""
            },
            "colorscale": [
             [
              0,
              "#0d0887"
             ],
             [
              0.1111111111111111,
              "#46039f"
             ],
             [
              0.2222222222222222,
              "#7201a8"
             ],
             [
              0.3333333333333333,
              "#9c179e"
             ],
             [
              0.4444444444444444,
              "#bd3786"
             ],
             [
              0.5555555555555556,
              "#d8576b"
             ],
             [
              0.6666666666666666,
              "#ed7953"
             ],
             [
              0.7777777777777778,
              "#fb9f3a"
             ],
             [
              0.8888888888888888,
              "#fdca26"
             ],
             [
              1,
              "#f0f921"
             ]
            ],
            "type": "contour"
           }
          ],
          "contourcarpet": [
           {
            "colorbar": {
             "outlinewidth": 0,
             "ticks": ""
            },
            "type": "contourcarpet"
           }
          ],
          "heatmap": [
           {
            "colorbar": {
             "outlinewidth": 0,
             "ticks": ""
            },
            "colorscale": [
             [
              0,
              "#0d0887"
             ],
             [
              0.1111111111111111,
              "#46039f"
             ],
             [
              0.2222222222222222,
              "#7201a8"
             ],
             [
              0.3333333333333333,
              "#9c179e"
             ],
             [
              0.4444444444444444,
              "#bd3786"
             ],
             [
              0.5555555555555556,
              "#d8576b"
             ],
             [
              0.6666666666666666,
              "#ed7953"
             ],
             [
              0.7777777777777778,
              "#fb9f3a"
             ],
             [
              0.8888888888888888,
              "#fdca26"
             ],
             [
              1,
              "#f0f921"
             ]
            ],
            "type": "heatmap"
           }
          ],
          "histogram": [
           {
            "marker": {
             "pattern": {
              "fillmode": "overlay",
              "size": 10,
              "solidity": 0.2
             }
            },
            "type": "histogram"
           }
          ],
          "histogram2d": [
           {
            "colorbar": {
             "outlinewidth": 0,
             "ticks": ""
            },
            "colorscale": [
             [
              0,
              "#0d0887"
             ],
             [
              0.1111111111111111,
              "#46039f"
             ],
             [
              0.2222222222222222,
              "#7201a8"
             ],
             [
              0.3333333333333333,
              "#9c179e"
             ],
             [
              0.4444444444444444,
              "#bd3786"
             ],
             [
              0.5555555555555556,
              "#d8576b"
             ],
             [
              0.6666666666666666,
              "#ed7953"
             ],
             [
              0.7777777777777778,
              "#fb9f3a"
             ],
             [
              0.8888888888888888,
              "#fdca26"
             ],
             [
              1,
              "#f0f921"
             ]
            ],
            "type": "histogram2d"
           }
          ],
          "histogram2dcontour": [
           {
            "colorbar": {
             "outlinewidth": 0,
             "ticks": ""
            },
            "colorscale": [
             [
              0,
              "#0d0887"
             ],
             [
              0.1111111111111111,
              "#46039f"
             ],
             [
              0.2222222222222222,
              "#7201a8"
             ],
             [
              0.3333333333333333,
              "#9c179e"
             ],
             [
              0.4444444444444444,
              "#bd3786"
             ],
             [
              0.5555555555555556,
              "#d8576b"
             ],
             [
              0.6666666666666666,
              "#ed7953"
             ],
             [
              0.7777777777777778,
              "#fb9f3a"
             ],
             [
              0.8888888888888888,
              "#fdca26"
             ],
             [
              1,
              "#f0f921"
             ]
            ],
            "type": "histogram2dcontour"
           }
          ],
          "mesh3d": [
           {
            "colorbar": {
             "outlinewidth": 0,
             "ticks": ""
            },
            "type": "mesh3d"
           }
          ],
          "parcoords": [
           {
            "line": {
             "colorbar": {
              "outlinewidth": 0,
              "ticks": ""
             }
            },
            "type": "parcoords"
           }
          ],
          "pie": [
           {
            "automargin": true,
            "type": "pie"
           }
          ],
          "scatter": [
           {
            "fillpattern": {
             "fillmode": "overlay",
             "size": 10,
             "solidity": 0.2
            },
            "type": "scatter"
           }
          ],
          "scatter3d": [
           {
            "line": {
             "colorbar": {
              "outlinewidth": 0,
              "ticks": ""
             }
            },
            "marker": {
             "colorbar": {
              "outlinewidth": 0,
              "ticks": ""
             }
            },
            "type": "scatter3d"
           }
          ],
          "scattercarpet": [
           {
            "marker": {
             "colorbar": {
              "outlinewidth": 0,
              "ticks": ""
             }
            },
            "type": "scattercarpet"
           }
          ],
          "scattergeo": [
           {
            "marker": {
             "colorbar": {
              "outlinewidth": 0,
              "ticks": ""
             }
            },
            "type": "scattergeo"
           }
          ],
          "scattergl": [
           {
            "marker": {
             "colorbar": {
              "outlinewidth": 0,
              "ticks": ""
             }
            },
            "type": "scattergl"
           }
          ],
          "scattermap": [
           {
            "marker": {
             "colorbar": {
              "outlinewidth": 0,
              "ticks": ""
             }
            },
            "type": "scattermap"
           }
          ],
          "scattermapbox": [
           {
            "marker": {
             "colorbar": {
              "outlinewidth": 0,
              "ticks": ""
             }
            },
            "type": "scattermapbox"
           }
          ],
          "scatterpolar": [
           {
            "marker": {
             "colorbar": {
              "outlinewidth": 0,
              "ticks": ""
             }
            },
            "type": "scatterpolar"
           }
          ],
          "scatterpolargl": [
           {
            "marker": {
             "colorbar": {
              "outlinewidth": 0,
              "ticks": ""
             }
            },
            "type": "scatterpolargl"
           }
          ],
          "scatterternary": [
           {
            "marker": {
             "colorbar": {
              "outlinewidth": 0,
              "ticks": ""
             }
            },
            "type": "scatterternary"
           }
          ],
          "surface": [
           {
            "colorbar": {
             "outlinewidth": 0,
             "ticks": ""
            },
            "colorscale": [
             [
              0,
              "#0d0887"
             ],
             [
              0.1111111111111111,
              "#46039f"
             ],
             [
              0.2222222222222222,
              "#7201a8"
             ],
             [
              0.3333333333333333,
              "#9c179e"
             ],
             [
              0.4444444444444444,
              "#bd3786"
             ],
             [
              0.5555555555555556,
              "#d8576b"
             ],
             [
              0.6666666666666666,
              "#ed7953"
             ],
             [
              0.7777777777777778,
              "#fb9f3a"
             ],
             [
              0.8888888888888888,
              "#fdca26"
             ],
             [
              1,
              "#f0f921"
             ]
            ],
            "type": "surface"
           }
          ],
          "table": [
           {
            "cells": {
             "fill": {
              "color": "#EBF0F8"
             },
             "line": {
              "color": "white"
             }
            },
            "header": {
             "fill": {
              "color": "#C8D4E3"
             },
             "line": {
              "color": "white"
             }
            },
            "type": "table"
           }
          ]
         },
         "layout": {
          "annotationdefaults": {
           "arrowcolor": "#2a3f5f",
           "arrowhead": 0,
           "arrowwidth": 1
          },
          "autotypenumbers": "strict",
          "coloraxis": {
           "colorbar": {
            "outlinewidth": 0,
            "ticks": ""
           }
          },
          "colorscale": {
           "diverging": [
            [
             0,
             "#8e0152"
            ],
            [
             0.1,
             "#c51b7d"
            ],
            [
             0.2,
             "#de77ae"
            ],
            [
             0.3,
             "#f1b6da"
            ],
            [
             0.4,
             "#fde0ef"
            ],
            [
             0.5,
             "#f7f7f7"
            ],
            [
             0.6,
             "#e6f5d0"
            ],
            [
             0.7,
             "#b8e186"
            ],
            [
             0.8,
             "#7fbc41"
            ],
            [
             0.9,
             "#4d9221"
            ],
            [
             1,
             "#276419"
            ]
           ],
           "sequential": [
            [
             0,
             "#0d0887"
            ],
            [
             0.1111111111111111,
             "#46039f"
            ],
            [
             0.2222222222222222,
             "#7201a8"
            ],
            [
             0.3333333333333333,
             "#9c179e"
            ],
            [
             0.4444444444444444,
             "#bd3786"
            ],
            [
             0.5555555555555556,
             "#d8576b"
            ],
            [
             0.6666666666666666,
             "#ed7953"
            ],
            [
             0.7777777777777778,
             "#fb9f3a"
            ],
            [
             0.8888888888888888,
             "#fdca26"
            ],
            [
             1,
             "#f0f921"
            ]
           ],
           "sequentialminus": [
            [
             0,
             "#0d0887"
            ],
            [
             0.1111111111111111,
             "#46039f"
            ],
            [
             0.2222222222222222,
             "#7201a8"
            ],
            [
             0.3333333333333333,
             "#9c179e"
            ],
            [
             0.4444444444444444,
             "#bd3786"
            ],
            [
             0.5555555555555556,
             "#d8576b"
            ],
            [
             0.6666666666666666,
             "#ed7953"
            ],
            [
             0.7777777777777778,
             "#fb9f3a"
            ],
            [
             0.8888888888888888,
             "#fdca26"
            ],
            [
             1,
             "#f0f921"
            ]
           ]
          },
          "colorway": [
           "#636efa",
           "#EF553B",
           "#00cc96",
           "#ab63fa",
           "#FFA15A",
           "#19d3f3",
           "#FF6692",
           "#B6E880",
           "#FF97FF",
           "#FECB52"
          ],
          "font": {
           "color": "#2a3f5f"
          },
          "geo": {
           "bgcolor": "white",
           "lakecolor": "white",
           "landcolor": "#E5ECF6",
           "showlakes": true,
           "showland": true,
           "subunitcolor": "white"
          },
          "hoverlabel": {
           "align": "left"
          },
          "hovermode": "closest",
          "mapbox": {
           "style": "light"
          },
          "paper_bgcolor": "white",
          "plot_bgcolor": "#E5ECF6",
          "polar": {
           "angularaxis": {
            "gridcolor": "white",
            "linecolor": "white",
            "ticks": ""
           },
           "bgcolor": "#E5ECF6",
           "radialaxis": {
            "gridcolor": "white",
            "linecolor": "white",
            "ticks": ""
           }
          },
          "scene": {
           "xaxis": {
            "backgroundcolor": "#E5ECF6",
            "gridcolor": "white",
            "gridwidth": 2,
            "linecolor": "white",
            "showbackground": true,
            "ticks": "",
            "zerolinecolor": "white"
           },
           "yaxis": {
            "backgroundcolor": "#E5ECF6",
            "gridcolor": "white",
            "gridwidth": 2,
            "linecolor": "white",
            "showbackground": true,
            "ticks": "",
            "zerolinecolor": "white"
           },
           "zaxis": {
            "backgroundcolor": "#E5ECF6",
            "gridcolor": "white",
            "gridwidth": 2,
            "linecolor": "white",
            "showbackground": true,
            "ticks": "",
            "zerolinecolor": "white"
           }
          },
          "shapedefaults": {
           "line": {
            "color": "#2a3f5f"
           }
          },
          "ternary": {
           "aaxis": {
            "gridcolor": "white",
            "linecolor": "white",
            "ticks": ""
           },
           "baxis": {
            "gridcolor": "white",
            "linecolor": "white",
            "ticks": ""
           },
           "bgcolor": "#E5ECF6",
           "caxis": {
            "gridcolor": "white",
            "linecolor": "white",
            "ticks": ""
           }
          },
          "title": {
           "x": 0.05
          },
          "xaxis": {
           "automargin": true,
           "gridcolor": "white",
           "linecolor": "white",
           "ticks": "",
           "title": {
            "standoff": 15
           },
           "zerolinecolor": "white",
           "zerolinewidth": 2
          },
          "yaxis": {
           "automargin": true,
           "gridcolor": "white",
           "linecolor": "white",
           "ticks": "",
           "title": {
            "standoff": 15
           },
           "zerolinecolor": "white",
           "zerolinewidth": 2
          }
         }
        },
        "title": {
         "text": "Newton-Raphson Method: Root at x = 59.6903 <br>Function: _lambdifygenerated"
        },
        "width": 800,
        "xaxis": {
         "title": {
          "text": "x"
         }
        },
        "yaxis": {
         "title": {
          "text": "f(x)"
         }
        }
       }
      }
     },
     "metadata": {},
     "output_type": "display_data"
    }
   ],
   "source": []
  }
 ],
 "metadata": {
  "kernelspec": {
   "display_name": "Python 3",
   "language": "python",
   "name": "python3"
  },
  "language_info": {
   "codemirror_mode": {
    "name": "ipython",
    "version": 3
   },
   "file_extension": ".py",
   "mimetype": "text/x-python",
   "name": "python",
   "nbconvert_exporter": "python",
   "pygments_lexer": "ipython3",
   "version": "3.13.5"
  }
 },
 "nbformat": 4,
 "nbformat_minor": 5
}
