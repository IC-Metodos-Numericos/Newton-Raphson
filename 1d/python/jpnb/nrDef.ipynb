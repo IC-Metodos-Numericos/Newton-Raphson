{
 "cells": [
  {
   "cell_type": "code",
   "execution_count": 1,
   "id": "a563017b",
   "metadata": {},
   "outputs": [
    {
     "name": "stderr",
     "output_type": "stream",
     "text": [
      "C:\\Users\\maria\\AppData\\Roaming\\Python\\Python313\\site-packages\\kaleido\\__init__.py:14: UserWarning: \n",
      "\n",
      "Warning: You have Plotly version 6.0.1, which is not compatible with this version of Kaleido (1.0.0).\n",
      "\n",
      "This means that static image generation (e.g. `fig.write_image()`) will not work.\n",
      "\n",
      "Please upgrade Plotly to version 6.1.1 or greater, or downgrade Kaleido to version 0.2.1.\n",
      "\n",
      "  from .kaleido import Kaleido\n"
     ]
    }
   ],
   "source": [
    "import sympy as sp\n",
    "import numpy as np\n",
    "import matplotlib.pyplot as plt\n",
    "import plotly.graph_objects as go\n",
    "import kaleido as kld\n",
    "import os"
   ]
  },
  {
   "cell_type": "code",
   "execution_count": 2,
   "id": "331b9615",
   "metadata": {},
   "outputs": [],
   "source": [
    "def newton_raphson(f, df, x0, tol=1e-6, max_iter=100):\n",
    "    \"\"\"\n",
    "    Implements the Newton-Raphson method to find the root of a function.\n",
    "\n",
    "    Parameters:\n",
    "        f : function\n",
    "            Function for which the root is to be found.\n",
    "        df : function\n",
    "            Derivative of the function f.\n",
    "        x0 : float\n",
    "            Initial guess for the iteration.\n",
    "        tol : float, optional\n",
    "            Tolerance for the stopping criterion (default: 1e-6).\n",
    "        max_iter : int, optional\n",
    "            Maximum number of iterations (default: 100).\n",
    "\n",
    "    Returns:\n",
    "        root : float\n",
    "            Approximation of the root found.\n",
    "        iterations : list\n",
    "            List of x values at each iteration.\n",
    "\n",
    "    Raises:\n",
    "        ZeroDivisionError:\n",
    "            If the derivative is zero at any point.\n",
    "        ValueError:\n",
    "            If numerical divergence occurs or the maximum number of iterations is reached.\n",
    "    \"\"\"\n",
    "    x = x0\n",
    "    iterations = [x0]\n",
    "\n",
    "    for i in range(max_iter):\n",
    "        fx = f(x)\n",
    "        dfx = df(x)\n",
    "\n",
    "        if dfx == 0:\n",
    "            raise ZeroDivisionError(\"Derivada zero. Método falhou.\")\n",
    "\n",
    "        x_new = x - fx / dfx\n",
    "\n",
    "        if np.isnan(x_new) or np.isinf(x_new):\n",
    "            raise ValueError(\"Divergência numérica.\")\n",
    "\n",
    "        iterations.append(x_new)\n",
    "\n",
    "        if abs(x_new - x) < tol:\n",
    "            return x_new, iterations\n",
    "\n",
    "        x = x_new\n",
    "\n",
    "    raise ValueError(\"Número máximo de iterações atingido.\")\n",
    "\n"
   ]
  },
  {
   "cell_type": "code",
   "execution_count": 3,
   "id": "5da072a2",
   "metadata": {},
   "outputs": [],
   "source": [
    "def plot_newton_plotly(f, f_expr, raiz, iteracoes):\n",
    "    \"\"\"\n",
    "    Plots the Newton-Raphson iterations using Plotly.\n",
    "\n",
    "    Parameters:\n",
    "        f : function\n",
    "            The numerical function to plot.\n",
    "        f_expr : sympy expression\n",
    "            The symbolic expression of the function for display.\n",
    "        raiz : float\n",
    "            The root found by the Newton-Raphson method.\n",
    "        iteracoes : list of float\n",
    "            The list of x values at each iteration.\n",
    "    Returns:\n",
    "        None: Displays the plot in a web browser.\n",
    "    \"\"\"\n",
    "\n",
    "    import numpy as np\n",
    "    import plotly.graph_objects as go\n",
    "    import sympy as sp\n",
    "\n",
    "    x_vals = np.linspace(min(iteracoes) - 1, max(iteracoes) + 1, 4000)\n",
    "    y_vals = f(x_vals)\n",
    "\n",
    "    fig = go.Figure()\n",
    "\n",
    "    # Plot the function\n",
    "    fig.add_trace(go.Scatter(x=x_vals, y=y_vals, mode='lines', name='f(x)'))\n",
    "\n",
    "    # Plot x and y axes\n",
    "    fig.add_trace(go.Scatter(x=[min(x_vals), max(x_vals)], y=[0, 0],\n",
    "                             mode='lines', line=dict(color='black', width=1), showlegend=False))\n",
    "    fig.add_trace(go.Scatter(x=[0, 0], y=[min(y_vals), max(y_vals)],\n",
    "                             mode='lines', line=dict(color='black', width=1), showlegend=False))\n",
    "\n",
    "    # Plot iterations and tangents\n",
    "    for i in range(len(iteracoes) - 1):\n",
    "        xi = iteracoes[i]\n",
    "        yi = f(xi)\n",
    "        fig.add_trace(go.Scatter(x=[xi, iteracoes[i+1]], y=[yi, 0],\n",
    "                                 mode='lines', line=dict(color='red', dash='dash'), showlegend=False))\n",
    "        fig.add_trace(go.Scatter(x=[xi], y=[yi], mode='markers',\n",
    "                                 marker=dict(color='red', size=8), showlegend=False))\n",
    "        fig.add_trace(go.Scatter(x=[iteracoes[i+1]], y=[0],\n",
    "                                 mode='markers', marker=dict(color='green', size=8), showlegend=False))\n",
    "\n",
    "    # Plot root\n",
    "    fig.add_trace(go.Scatter(x=[raiz], y=[f(raiz)], mode='markers',\n",
    "                             marker=dict(color='blue', size=12, symbol='star'),\n",
    "                             name=f'Root: {raiz:.4f}'))\n",
    "\n",
    "    # Render symbolic expression as LaTeX\n",
    "    latex_expr = sp.latex(f_expr)\n",
    "\n",
    "    fig.update_layout(\n",
    "        title=f\"Newton-Raphson Method: Root at x = {raiz:.4f}<br>Function: {latex_expr}\",\n",
    "        xaxis_title=\"x\",\n",
    "        yaxis_title=\"f(x)\",\n",
    "        legend=dict(yanchor=\"top\", y=0.99, xanchor=\"left\", x=0.01),\n",
    "        width=800,\n",
    "        height=500\n",
    "    )\n",
    "    fig.show()\n"
   ]
  },
  {
   "cell_type": "code",
   "execution_count": 4,
   "id": "d1a028c3",
   "metadata": {},
   "outputs": [],
   "source": [
    "def calc_error(iterations, known_root=None):\n",
    "    \"\"\"\n",
    "    Calculates the absolute error at each iteration of the Newton-Raphson method.\n",
    "\n",
    "    Parameters:\n",
    "        iterations (list): List of x values at each iteration.\n",
    "        known_root (float, optional): The known root to compute error against. If None, computes |x_{n+1} - x_n|.\n",
    "\n",
    "    Returns:\n",
    "        errors (list): List of absolute errors.\n",
    "    \"\"\"\n",
    "    if known_root is not None:\n",
    "        errors = [abs(x - known_root) for x in iterations]\n",
    "    else:\n",
    "        errors = [abs(iterations[i+1] - iterations[i]) for i in range(len(iterations)-1)]\n",
    "    return errors"
   ]
  },
  {
   "cell_type": "code",
   "execution_count": 7,
   "id": "83cd960a",
   "metadata": {},
   "outputs": [],
   "source": [
    "def runNRM(f,x0, know_root = None, tol=1e-6, max_iter=100):\n",
    "    \"\"\"\n",
    "    Runs the Newton-Raphson Method interactively.\n",
    "\n",
    "    Prompts the user to input a mathematical function and an initial guess,\n",
    "    then computes the root using the Newton-Raphson method, displays the\n",
    "    function, its derivative, and plots the iterations.\n",
    "\n",
    "    Returns:\n",
    "        root (float): The root found by the Newton-Raphson method.\n",
    "        iterations (list): List of x values at each iteration.\n",
    "    \"\"\"\n",
    "        \n",
    "    # Dicionario de funções matemáticas\n",
    "    locals_dict = {\n",
    "    \"pi\": sp.pi,\n",
    "    \"e\": sp.E,\n",
    "    \"ln\": sp.log,\n",
    "    \"log\": sp.log,\n",
    "    \"sin\": sp.sin,\n",
    "    \"cos\": sp.cos,\n",
    "    \"tan\": sp.tan,\n",
    "    \"exp\": sp.exp,\n",
    "    \"sqrt\": sp.sqrt,\n",
    "    }   \n",
    "    \n",
    "    print(\"Método de Newton-Raphson\")\n",
    "    \n",
    "    # Define a variável simbólica\n",
    "    x = sp.symbols('x')\n",
    "    \n",
    "    # Solicita a função ao usuário\n",
    "    f = f\n",
    "\n",
    "    # Converte a string da função em uma expressão simbólica\n",
    "    f_expr = sp.sympify(f, locals=locals_dict)\n",
    "    \n",
    "    # Calcula a derivada da função\n",
    "    f_prime = sp.diff(f_expr, x)\n",
    "\n",
    "    # Exibe a função e sua derivada\n",
    "    f_num = sp.lambdify(x, f, 'numpy')\n",
    "    f_prime_num = sp.lambdify(x, f_prime, 'numpy')\n",
    "\n",
    "\n",
    "    # Solicita o ponto inicial\n",
    "    x0 = x0\n",
    "    root, iterations = newton_raphson(f_num, f_prime_num, x0, tol=tol, max_iter=max_iter)\n",
    "\n",
    "    errors = []\n",
    "    if know_root is not None:\n",
    "        errors = calc_error(iterations, know_root)\n",
    "\n",
    "    print(f\"Função: {f_expr}, \\n Derivada: {f_prime}, \\n Ponto Inicial (x0): {x0}\")\n",
    "    plot_newton_plotly(f_num, f_expr, root, iterations)\n",
    "    \n",
    "    print(f\"Quantidade De Iterações: {len(iterations)}, Raiz: {root:.4f}\")\n",
    "\n",
    "    for i in range(len(iterations)):\n",
    "        print(f\"Iteração {i+1}: x = {iterations[i]:.17f}, f(x) = {f_num(iterations[i]):.17f}\")\n",
    "\n",
    "    if errors:\n",
    "        print(\"\\nErros Absolutos:\")\n",
    "        for i, error in enumerate(errors):\n",
    "            print(f\"Iteração {i+1}: Erro = {error:.17f}\")\n",
    "            \n",
    "    return root, iterations\n",
    "# %%"
   ]
  },
  {
   "cell_type": "code",
   "execution_count": 8,
   "id": "104fe750",
   "metadata": {},
   "outputs": [
    {
     "name": "stdout",
     "output_type": "stream",
     "text": [
      "Método de Newton-Raphson\n",
      "Função: x**2 - 4, \n",
      " Derivada: 2*x, \n",
      " Ponto Inicial (x0): 1\n"
     ]
    },
    {
     "data": {
      "application/vnd.plotly.v1+json": {
       "config": {
        "plotlyServerURL": "https://plot.ly"
       },
       "data": [
        {
         "mode": "lines",
         "name": "f(x)",
         "type": "scatter",
         "x": {
          "bdata": "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",
          "dtype": "f8"
         },
         "y": {
          "bdata": "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",
          "dtype": "f8"
         }
        },
        {
         "line": {
          "color": "black",
          "width": 1
         },
         "mode": "lines",
         "showlegend": false,
         "type": "scatter",
         "x": [
          0,
          3.5
         ],
         "y": [
          0,
          0
         ]
        },
        {
         "line": {
          "color": "black",
          "width": 1
         },
         "mode": "lines",
         "showlegend": false,
         "type": "scatter",
         "x": [
          0,
          0
         ],
         "y": [
          -4,
          8.25
         ]
        },
        {
         "line": {
          "color": "red",
          "dash": "dash"
         },
         "mode": "lines",
         "showlegend": false,
         "type": "scatter",
         "x": [
          1,
          2.5
         ],
         "y": [
          -3,
          0
         ]
        },
        {
         "marker": {
          "color": "red",
          "size": 8
         },
         "mode": "markers",
         "showlegend": false,
         "type": "scatter",
         "x": [
          1
         ],
         "y": [
          -3
         ]
        },
        {
         "marker": {
          "color": "green",
          "size": 8
         },
         "mode": "markers",
         "showlegend": false,
         "type": "scatter",
         "x": [
          2.5
         ],
         "y": [
          0
         ]
        },
        {
         "line": {
          "color": "red",
          "dash": "dash"
         },
         "mode": "lines",
         "showlegend": false,
         "type": "scatter",
         "x": [
          2.5,
          2.05
         ],
         "y": [
          2.25,
          0
         ]
        },
        {
         "marker": {
          "color": "red",
          "size": 8
         },
         "mode": "markers",
         "showlegend": false,
         "type": "scatter",
         "x": [
          2.5
         ],
         "y": [
          2.25
         ]
        },
        {
         "marker": {
          "color": "green",
          "size": 8
         },
         "mode": "markers",
         "showlegend": false,
         "type": "scatter",
         "x": [
          2.05
         ],
         "y": [
          0
         ]
        },
        {
         "line": {
          "color": "red",
          "dash": "dash"
         },
         "mode": "lines",
         "showlegend": false,
         "type": "scatter",
         "x": [
          2.05,
          2.000609756097561
         ],
         "y": [
          0.20249999999999968,
          0
         ]
        },
        {
         "marker": {
          "color": "red",
          "size": 8
         },
         "mode": "markers",
         "showlegend": false,
         "type": "scatter",
         "x": [
          2.05
         ],
         "y": [
          0.20249999999999968
         ]
        },
        {
         "marker": {
          "color": "green",
          "size": 8
         },
         "mode": "markers",
         "showlegend": false,
         "type": "scatter",
         "x": [
          2.000609756097561
         ],
         "y": [
          0
         ]
        },
        {
         "line": {
          "color": "red",
          "dash": "dash"
         },
         "mode": "lines",
         "showlegend": false,
         "type": "scatter",
         "x": [
          2.000609756097561,
          2.0000000929222947
         ],
         "y": [
          0.002439396192741583,
          0
         ]
        },
        {
         "marker": {
          "color": "red",
          "size": 8
         },
         "mode": "markers",
         "showlegend": false,
         "type": "scatter",
         "x": [
          2.000609756097561
         ],
         "y": [
          0.002439396192741583
         ]
        },
        {
         "marker": {
          "color": "green",
          "size": 8
         },
         "mode": "markers",
         "showlegend": false,
         "type": "scatter",
         "x": [
          2.0000000929222947
         ],
         "y": [
          0
         ]
        },
        {
         "line": {
          "color": "red",
          "dash": "dash"
         },
         "mode": "lines",
         "showlegend": false,
         "type": "scatter",
         "x": [
          2.0000000929222947,
          2.000000000000002
         ],
         "y": [
          3.716891878724482e-7,
          0
         ]
        },
        {
         "marker": {
          "color": "red",
          "size": 8
         },
         "mode": "markers",
         "showlegend": false,
         "type": "scatter",
         "x": [
          2.0000000929222947
         ],
         "y": [
          3.716891878724482e-7
         ]
        },
        {
         "marker": {
          "color": "green",
          "size": 8
         },
         "mode": "markers",
         "showlegend": false,
         "type": "scatter",
         "x": [
          2.000000000000002
         ],
         "y": [
          0
         ]
        },
        {
         "marker": {
          "color": "blue",
          "size": 12,
          "symbol": "star"
         },
         "mode": "markers",
         "name": "Root: 2.0000",
         "type": "scatter",
         "x": [
          2.000000000000002
         ],
         "y": [
          8.881784197001252e-15
         ]
        }
       ],
       "layout": {
        "height": 500,
        "legend": {
         "x": 0.01,
         "xanchor": "left",
         "y": 0.99,
         "yanchor": "top"
        },
        "template": {
         "data": {
          "bar": [
           {
            "error_x": {
             "color": "#2a3f5f"
            },
            "error_y": {
             "color": "#2a3f5f"
            },
            "marker": {
             "line": {
              "color": "#E5ECF6",
              "width": 0.5
             },
             "pattern": {
              "fillmode": "overlay",
              "size": 10,
              "solidity": 0.2
             }
            },
            "type": "bar"
           }
          ],
          "barpolar": [
           {
            "marker": {
             "line": {
              "color": "#E5ECF6",
              "width": 0.5
             },
             "pattern": {
              "fillmode": "overlay",
              "size": 10,
              "solidity": 0.2
             }
            },
            "type": "barpolar"
           }
          ],
          "carpet": [
           {
            "aaxis": {
             "endlinecolor": "#2a3f5f",
             "gridcolor": "white",
             "linecolor": "white",
             "minorgridcolor": "white",
             "startlinecolor": "#2a3f5f"
            },
            "baxis": {
             "endlinecolor": "#2a3f5f",
             "gridcolor": "white",
             "linecolor": "white",
             "minorgridcolor": "white",
             "startlinecolor": "#2a3f5f"
            },
            "type": "carpet"
           }
          ],
          "choropleth": [
           {
            "colorbar": {
             "outlinewidth": 0,
             "ticks": ""
            },
            "type": "choropleth"
           }
          ],
          "contour": [
           {
            "colorbar": {
             "outlinewidth": 0,
             "ticks": ""
            },
            "colorscale": [
             [
              0,
              "#0d0887"
             ],
             [
              0.1111111111111111,
              "#46039f"
             ],
             [
              0.2222222222222222,
              "#7201a8"
             ],
             [
              0.3333333333333333,
              "#9c179e"
             ],
             [
              0.4444444444444444,
              "#bd3786"
             ],
             [
              0.5555555555555556,
              "#d8576b"
             ],
             [
              0.6666666666666666,
              "#ed7953"
             ],
             [
              0.7777777777777778,
              "#fb9f3a"
             ],
             [
              0.8888888888888888,
              "#fdca26"
             ],
             [
              1,
              "#f0f921"
             ]
            ],
            "type": "contour"
           }
          ],
          "contourcarpet": [
           {
            "colorbar": {
             "outlinewidth": 0,
             "ticks": ""
            },
            "type": "contourcarpet"
           }
          ],
          "heatmap": [
           {
            "colorbar": {
             "outlinewidth": 0,
             "ticks": ""
            },
            "colorscale": [
             [
              0,
              "#0d0887"
             ],
             [
              0.1111111111111111,
              "#46039f"
             ],
             [
              0.2222222222222222,
              "#7201a8"
             ],
             [
              0.3333333333333333,
              "#9c179e"
             ],
             [
              0.4444444444444444,
              "#bd3786"
             ],
             [
              0.5555555555555556,
              "#d8576b"
             ],
             [
              0.6666666666666666,
              "#ed7953"
             ],
             [
              0.7777777777777778,
              "#fb9f3a"
             ],
             [
              0.8888888888888888,
              "#fdca26"
             ],
             [
              1,
              "#f0f921"
             ]
            ],
            "type": "heatmap"
           }
          ],
          "histogram": [
           {
            "marker": {
             "pattern": {
              "fillmode": "overlay",
              "size": 10,
              "solidity": 0.2
             }
            },
            "type": "histogram"
           }
          ],
          "histogram2d": [
           {
            "colorbar": {
             "outlinewidth": 0,
             "ticks": ""
            },
            "colorscale": [
             [
              0,
              "#0d0887"
             ],
             [
              0.1111111111111111,
              "#46039f"
             ],
             [
              0.2222222222222222,
              "#7201a8"
             ],
             [
              0.3333333333333333,
              "#9c179e"
             ],
             [
              0.4444444444444444,
              "#bd3786"
             ],
             [
              0.5555555555555556,
              "#d8576b"
             ],
             [
              0.6666666666666666,
              "#ed7953"
             ],
             [
              0.7777777777777778,
              "#fb9f3a"
             ],
             [
              0.8888888888888888,
              "#fdca26"
             ],
             [
              1,
              "#f0f921"
             ]
            ],
            "type": "histogram2d"
           }
          ],
          "histogram2dcontour": [
           {
            "colorbar": {
             "outlinewidth": 0,
             "ticks": ""
            },
            "colorscale": [
             [
              0,
              "#0d0887"
             ],
             [
              0.1111111111111111,
              "#46039f"
             ],
             [
              0.2222222222222222,
              "#7201a8"
             ],
             [
              0.3333333333333333,
              "#9c179e"
             ],
             [
              0.4444444444444444,
              "#bd3786"
             ],
             [
              0.5555555555555556,
              "#d8576b"
             ],
             [
              0.6666666666666666,
              "#ed7953"
             ],
             [
              0.7777777777777778,
              "#fb9f3a"
             ],
             [
              0.8888888888888888,
              "#fdca26"
             ],
             [
              1,
              "#f0f921"
             ]
            ],
            "type": "histogram2dcontour"
           }
          ],
          "mesh3d": [
           {
            "colorbar": {
             "outlinewidth": 0,
             "ticks": ""
            },
            "type": "mesh3d"
           }
          ],
          "parcoords": [
           {
            "line": {
             "colorbar": {
              "outlinewidth": 0,
              "ticks": ""
             }
            },
            "type": "parcoords"
           }
          ],
          "pie": [
           {
            "automargin": true,
            "type": "pie"
           }
          ],
          "scatter": [
           {
            "fillpattern": {
             "fillmode": "overlay",
             "size": 10,
             "solidity": 0.2
            },
            "type": "scatter"
           }
          ],
          "scatter3d": [
           {
            "line": {
             "colorbar": {
              "outlinewidth": 0,
              "ticks": ""
             }
            },
            "marker": {
             "colorbar": {
              "outlinewidth": 0,
              "ticks": ""
             }
            },
            "type": "scatter3d"
           }
          ],
          "scattercarpet": [
           {
            "marker": {
             "colorbar": {
              "outlinewidth": 0,
              "ticks": ""
             }
            },
            "type": "scattercarpet"
           }
          ],
          "scattergeo": [
           {
            "marker": {
             "colorbar": {
              "outlinewidth": 0,
              "ticks": ""
             }
            },
            "type": "scattergeo"
           }
          ],
          "scattergl": [
           {
            "marker": {
             "colorbar": {
              "outlinewidth": 0,
              "ticks": ""
             }
            },
            "type": "scattergl"
           }
          ],
          "scattermap": [
           {
            "marker": {
             "colorbar": {
              "outlinewidth": 0,
              "ticks": ""
             }
            },
            "type": "scattermap"
           }
          ],
          "scattermapbox": [
           {
            "marker": {
             "colorbar": {
              "outlinewidth": 0,
              "ticks": ""
             }
            },
            "type": "scattermapbox"
           }
          ],
          "scatterpolar": [
           {
            "marker": {
             "colorbar": {
              "outlinewidth": 0,
              "ticks": ""
             }
            },
            "type": "scatterpolar"
           }
          ],
          "scatterpolargl": [
           {
            "marker": {
             "colorbar": {
              "outlinewidth": 0,
              "ticks": ""
             }
            },
            "type": "scatterpolargl"
           }
          ],
          "scatterternary": [
           {
            "marker": {
             "colorbar": {
              "outlinewidth": 0,
              "ticks": ""
             }
            },
            "type": "scatterternary"
           }
          ],
          "surface": [
           {
            "colorbar": {
             "outlinewidth": 0,
             "ticks": ""
            },
            "colorscale": [
             [
              0,
              "#0d0887"
             ],
             [
              0.1111111111111111,
              "#46039f"
             ],
             [
              0.2222222222222222,
              "#7201a8"
             ],
             [
              0.3333333333333333,
              "#9c179e"
             ],
             [
              0.4444444444444444,
              "#bd3786"
             ],
             [
              0.5555555555555556,
              "#d8576b"
             ],
             [
              0.6666666666666666,
              "#ed7953"
             ],
             [
              0.7777777777777778,
              "#fb9f3a"
             ],
             [
              0.8888888888888888,
              "#fdca26"
             ],
             [
              1,
              "#f0f921"
             ]
            ],
            "type": "surface"
           }
          ],
          "table": [
           {
            "cells": {
             "fill": {
              "color": "#EBF0F8"
             },
             "line": {
              "color": "white"
             }
            },
            "header": {
             "fill": {
              "color": "#C8D4E3"
             },
             "line": {
              "color": "white"
             }
            },
            "type": "table"
           }
          ]
         },
         "layout": {
          "annotationdefaults": {
           "arrowcolor": "#2a3f5f",
           "arrowhead": 0,
           "arrowwidth": 1
          },
          "autotypenumbers": "strict",
          "coloraxis": {
           "colorbar": {
            "outlinewidth": 0,
            "ticks": ""
           }
          },
          "colorscale": {
           "diverging": [
            [
             0,
             "#8e0152"
            ],
            [
             0.1,
             "#c51b7d"
            ],
            [
             0.2,
             "#de77ae"
            ],
            [
             0.3,
             "#f1b6da"
            ],
            [
             0.4,
             "#fde0ef"
            ],
            [
             0.5,
             "#f7f7f7"
            ],
            [
             0.6,
             "#e6f5d0"
            ],
            [
             0.7,
             "#b8e186"
            ],
            [
             0.8,
             "#7fbc41"
            ],
            [
             0.9,
             "#4d9221"
            ],
            [
             1,
             "#276419"
            ]
           ],
           "sequential": [
            [
             0,
             "#0d0887"
            ],
            [
             0.1111111111111111,
             "#46039f"
            ],
            [
             0.2222222222222222,
             "#7201a8"
            ],
            [
             0.3333333333333333,
             "#9c179e"
            ],
            [
             0.4444444444444444,
             "#bd3786"
            ],
            [
             0.5555555555555556,
             "#d8576b"
            ],
            [
             0.6666666666666666,
             "#ed7953"
            ],
            [
             0.7777777777777778,
             "#fb9f3a"
            ],
            [
             0.8888888888888888,
             "#fdca26"
            ],
            [
             1,
             "#f0f921"
            ]
           ],
           "sequentialminus": [
            [
             0,
             "#0d0887"
            ],
            [
             0.1111111111111111,
             "#46039f"
            ],
            [
             0.2222222222222222,
             "#7201a8"
            ],
            [
             0.3333333333333333,
             "#9c179e"
            ],
            [
             0.4444444444444444,
             "#bd3786"
            ],
            [
             0.5555555555555556,
             "#d8576b"
            ],
            [
             0.6666666666666666,
             "#ed7953"
            ],
            [
             0.7777777777777778,
             "#fb9f3a"
            ],
            [
             0.8888888888888888,
             "#fdca26"
            ],
            [
             1,
             "#f0f921"
            ]
           ]
          },
          "colorway": [
           "#636efa",
           "#EF553B",
           "#00cc96",
           "#ab63fa",
           "#FFA15A",
           "#19d3f3",
           "#FF6692",
           "#B6E880",
           "#FF97FF",
           "#FECB52"
          ],
          "font": {
           "color": "#2a3f5f"
          },
          "geo": {
           "bgcolor": "white",
           "lakecolor": "white",
           "landcolor": "#E5ECF6",
           "showlakes": true,
           "showland": true,
           "subunitcolor": "white"
          },
          "hoverlabel": {
           "align": "left"
          },
          "hovermode": "closest",
          "mapbox": {
           "style": "light"
          },
          "paper_bgcolor": "white",
          "plot_bgcolor": "#E5ECF6",
          "polar": {
           "angularaxis": {
            "gridcolor": "white",
            "linecolor": "white",
            "ticks": ""
           },
           "bgcolor": "#E5ECF6",
           "radialaxis": {
            "gridcolor": "white",
            "linecolor": "white",
            "ticks": ""
           }
          },
          "scene": {
           "xaxis": {
            "backgroundcolor": "#E5ECF6",
            "gridcolor": "white",
            "gridwidth": 2,
            "linecolor": "white",
            "showbackground": true,
            "ticks": "",
            "zerolinecolor": "white"
           },
           "yaxis": {
            "backgroundcolor": "#E5ECF6",
            "gridcolor": "white",
            "gridwidth": 2,
            "linecolor": "white",
            "showbackground": true,
            "ticks": "",
            "zerolinecolor": "white"
           },
           "zaxis": {
            "backgroundcolor": "#E5ECF6",
            "gridcolor": "white",
            "gridwidth": 2,
            "linecolor": "white",
            "showbackground": true,
            "ticks": "",
            "zerolinecolor": "white"
           }
          },
          "shapedefaults": {
           "line": {
            "color": "#2a3f5f"
           }
          },
          "ternary": {
           "aaxis": {
            "gridcolor": "white",
            "linecolor": "white",
            "ticks": ""
           },
           "baxis": {
            "gridcolor": "white",
            "linecolor": "white",
            "ticks": ""
           },
           "bgcolor": "#E5ECF6",
           "caxis": {
            "gridcolor": "white",
            "linecolor": "white",
            "ticks": ""
           }
          },
          "title": {
           "x": 0.05
          },
          "xaxis": {
           "automargin": true,
           "gridcolor": "white",
           "linecolor": "white",
           "ticks": "",
           "title": {
            "standoff": 15
           },
           "zerolinecolor": "white",
           "zerolinewidth": 2
          },
          "yaxis": {
           "automargin": true,
           "gridcolor": "white",
           "linecolor": "white",
           "ticks": "",
           "title": {
            "standoff": 15
           },
           "zerolinecolor": "white",
           "zerolinewidth": 2
          }
         }
        },
        "title": {
         "text": "Newton-Raphson Method: Root at x = 2.0000<br>Function: x^{2} - 4"
        },
        "width": 800,
        "xaxis": {
         "title": {
          "text": "x"
         }
        },
        "yaxis": {
         "title": {
          "text": "f(x)"
         }
        }
       }
      }
     },
     "metadata": {},
     "output_type": "display_data"
    },
    {
     "name": "stdout",
     "output_type": "stream",
     "text": [
      "Quantidade De Iterações: 6, Raiz: 2.0000\n",
      "Iteração 1: x = 1.00000000000000000, f(x) = -3.00000000000000000\n",
      "Iteração 2: x = 2.50000000000000000, f(x) = 2.25000000000000000\n",
      "Iteração 3: x = 2.04999999999999982, f(x) = 0.20249999999999968\n",
      "Iteração 4: x = 2.00060975609756087, f(x) = 0.00243939619274158\n",
      "Iteração 5: x = 2.00000009292229475, f(x) = 0.00000037168918787\n",
      "Iteração 6: x = 2.00000000000000222, f(x) = 0.00000000000000888\n",
      "\n",
      "Erros Absolutos:\n",
      "Iteração 1: Erro = 1.00000000000000000\n",
      "Iteração 2: Erro = 0.50000000000000000\n",
      "Iteração 3: Erro = 0.04999999999999982\n",
      "Iteração 4: Erro = 0.00060975609756087\n",
      "Iteração 5: Erro = 0.00000009292229475\n",
      "Iteração 6: Erro = 0.00000000000000222\n"
     ]
    },
    {
     "data": {
      "text/plain": [
       "(2.000000000000002,\n",
       " [1, 2.5, 2.05, 2.000609756097561, 2.0000000929222947, 2.000000000000002])"
      ]
     },
     "execution_count": 8,
     "metadata": {},
     "output_type": "execute_result"
    }
   ],
   "source": [
    "x= sp.symbols('x')\n",
    "runNRM((x**2 - 4), 1, 2, tol=1e-6, max_iter=100)"
   ]
  },
  {
   "cell_type": "code",
   "execution_count": 11,
   "id": "86b6ca45",
   "metadata": {},
   "outputs": [],
   "source": [
    "#jupyter nbconvert --to script nrdef.ipynb\n"
   ]
  }
 ],
 "metadata": {
  "kernelspec": {
   "display_name": "Python 3",
   "language": "python",
   "name": "python3"
  },
  "language_info": {
   "codemirror_mode": {
    "name": "ipython",
    "version": 3
   },
   "file_extension": ".py",
   "mimetype": "text/x-python",
   "name": "python",
   "nbconvert_exporter": "python",
   "pygments_lexer": "ipython3",
   "version": "3.13.5"
  }
 },
 "nbformat": 4,
 "nbformat_minor": 5
}
